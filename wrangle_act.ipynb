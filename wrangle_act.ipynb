{
 "cells": [
  {
   "cell_type": "markdown",
   "metadata": {
    "id": "b4MInKM2F7pQ"
   },
   "source": [
    "# References\n",
    "# =========================================================="
   ]
  },
  {
   "cell_type": "markdown",
   "metadata": {
    "id": "3uCi-6dVF7pY"
   },
   "source": [
    "- https://twitter.com/dog_rates \n",
    "- https://en.wikipedia.org/wiki/WeRateDogs\n",
    "- https://help.twitter.com/en/managing-your-account/how-to-download-your-twitter-archive\n",
    "- https://docs.tweepy.org/en/latest/\n",
    "- https://developer.twitter.com/en/docs/developer-portal/overview\n",
    "- https://docs.google.com/presentation/d/1Peq5xknubzVYWhGftH39zPTnfke7qJ1q4-nFqCCOmvw/edit"
   ]
  },
  {
   "cell_type": "markdown",
   "metadata": {
    "id": "sCfdHw7wF7pe"
   },
   "source": [
    "# Notes\n",
    "# =========================================================="
   ]
  },
  {
   "cell_type": "markdown",
   "metadata": {
    "id": "_eow8m88F7pe"
   },
   "source": [
    "- Detect and document at least eight (8) quality issues and two (2) tidiness issues\n",
    "- Store the clean DataFrame(s) in a CSV file with the main one named twitter_archive_master.csv\n",
    "- At least three (3) insights and one (1) visualization must be produced.\n",
    "- Create a 300-600 word written report called wrangle_report.pdf or wrangle_report.html that briefly describes your wrangling efforts. This is to be framed as an internal document.\n",
    "- Create a 250-word-minimum written report called act_report.pdf or act_report.html that communicates the insights and displays the visualization(s) produced from your wrangled data. This is to be framed as an external document, like a blog post or magazine article, for example.\n",
    "- JSON = Java Script Object Notation"
   ]
  },
  {
   "cell_type": "markdown",
   "metadata": {
    "id": "TlHcIcpXF7pe"
   },
   "source": [
    "# Enhanced Twitter Archive"
   ]
  },
  {
   "cell_type": "markdown",
   "metadata": {
    "id": "gk0NfMzRF7pf"
   },
   "source": [
    "- The WeRateDogs Twitter archive contains basic tweet data for all 5000+ of their tweets, but not everything. \n",
    "- One column the archive does contain though: each tweet's text, which I used to extract rating, dog name, and dog \"stage\" (i.e. doggo, floofer, pupper, and puppo) to make this Twitter archive \"enhanced.\" \n",
    "- Of the 5000+ tweets, I have filtered for tweets with ratings only (there are 2356).\n",
    "- I extracted this data programmatically, but I didn't do a very good job. \n",
    "    - The ratings probably aren't all correct. \n",
    "    - Same goes for the dog names \n",
    "    - And probably dog stages  too. \n",
    "- You'll need to assess and clean these columns if you want to use them for analysis and visualization."
   ]
  },
  {
   "cell_type": "markdown",
   "metadata": {
    "id": "HXu9pk-oF7pf"
   },
   "source": [
    "# Additional Data via the Twitter API"
   ]
  },
  {
   "cell_type": "markdown",
   "metadata": {
    "id": "bnH1qPhDF7pf"
   },
   "source": [
    "- Back to the basic-ness of Twitter archives: retweet count and favorite count are two of the notable column omissions. \n",
    "- Fortunately, this additional data can be gathered by anyone from Twitter's API. \n",
    "    - Well, \"anyone\" who has access to data for the 3000 most recent tweets, at least. \n",
    "    - But you, because you have the WeRateDogs Twitter archive and specifically the tweet IDs within it, can gather this data for all 5000+. \n",
    "    - And guess what? You're going to query Twitter's API to gather this valuable data."
   ]
  },
  {
   "cell_type": "markdown",
   "metadata": {
    "id": "sE_HdzY4F7pf"
   },
   "source": [
    "# Image Predictions File"
   ]
  },
  {
   "cell_type": "markdown",
   "metadata": {
    "id": "W6wM42yiF7pg"
   },
   "source": [
    "- One more cool thing: I ran every image in the WeRateDogs Twitter archive through a neural network that can classify breeds of dogs*. \n",
    "- The results: a table full of image predictions (the top three only) alongside each tweet ID, image URL, and the image number that corresponded to the most confident prediction (numbered 1 to 4 since tweets can have up to four images)."
   ]
  },
  {
   "cell_type": "markdown",
   "metadata": {
    "id": "iW09jti4F7pg"
   },
   "source": [
    "The column description:\n",
    "- tweet_id \n",
    "    - the last part of the tweet URL after \"status/\"\n",
    "- p1 \n",
    "    - the algorithm's #1 prediction for the image in the tweet\n",
    "- p1_conf\n",
    "    - how confident the algorithm is in its #1 prediction\n",
    "- p1_dog \n",
    "    - whether or not the #1 prediction is a breed of dog\n",
    "etc."
   ]
  },
  {
   "cell_type": "markdown",
   "metadata": {
    "id": "z8jFLuhtF7pg"
   },
   "source": [
    "# Import Library\n",
    "# =========================================================="
   ]
  },
  {
   "cell_type": "code",
   "execution_count": 1,
   "metadata": {
    "executionInfo": {
     "elapsed": 837,
     "status": "ok",
     "timestamp": 1615611450532,
     "user": {
      "displayName": "Peter Forez",
      "photoUrl": "",
      "userId": "11505129390976081387"
     },
     "user_tz": -120
    },
    "id": "YEdZ4aj7F7pg"
   },
   "outputs": [],
   "source": [
    "# Import all packages\n",
    "import os\n",
    "import pandas as pd\n",
    "import numpy  as np\n",
    "import requests\n",
    "import json\n",
    "import requests"
   ]
  },
  {
   "cell_type": "code",
   "execution_count": 2,
   "metadata": {
    "executionInfo": {
     "elapsed": 1798,
     "status": "ok",
     "timestamp": 1615611451502,
     "user": {
      "displayName": "Peter Forez",
      "photoUrl": "",
      "userId": "11505129390976081387"
     },
     "user_tz": -120
    },
    "id": "tpqsPmkq3mp4"
   },
   "outputs": [],
   "source": [
    "# Import lirarbies for plotting \n",
    "import matplotlib.pyplot as plt\n",
    "import seaborn as sb\n",
    "%matplotlib inline\n",
    "\n",
    "# Changing the size of the plots:\n",
    "from matplotlib import rcParams\n",
    "# Specify the figure size in inches, for both X, and Y axes\n",
    "rcParams['figure.figsize'] = 15,8"
   ]
  },
  {
   "cell_type": "code",
   "execution_count": 3,
   "metadata": {
    "executionInfo": {
     "elapsed": 1792,
     "status": "ok",
     "timestamp": 1615611451503,
     "user": {
      "displayName": "Peter Forez",
      "photoUrl": "",
      "userId": "11505129390976081387"
     },
     "user_tz": -120
    },
    "id": "iBfXxJ_5F7ph"
   },
   "outputs": [],
   "source": [
    "def download_file(url):\n",
    "  \"\"\"\n",
    "  This function is used to download a file from the internet \n",
    "  Input: the URL link of the file\n",
    "  Output: a version of the file in the current working directory\n",
    "  Dependecny: reuests library\n",
    "  \"\"\"\n",
    "  response = requests.get(url, allow_redirects=True)\n",
    "  with open(url.split(\"/\")[-1], mode = 'wb') as file:\n",
    "      file.write(response.content)"
   ]
  },
  {
   "cell_type": "code",
   "execution_count": 4,
   "metadata": {
    "executionInfo": {
     "elapsed": 1785,
     "status": "ok",
     "timestamp": 1615611451504,
     "user": {
      "displayName": "Peter Forez",
      "photoUrl": "",
      "userId": "11505129390976081387"
     },
     "user_tz": -120
    },
    "id": "ZPIb1JtxtN4A"
   },
   "outputs": [],
   "source": [
    "# Regex for extracting a url link from a text\n",
    "re_url      = r'(?P<url>https?://[^\\s]+)'\n",
    "# Regex for extracting a fraction from a text\n",
    "re_fraction = r'(?:(?P<rating_numerator>[-+]?\\d*\\.\\d+|\\d+)\\/(?P<rating_denominator>[-+]?\\d*\\.\\d+|\\d+))'"
   ]
  },
  {
   "cell_type": "markdown",
   "metadata": {
    "id": "ln7bPXznF7ph"
   },
   "source": [
    "# Data Gathering \n",
    "# =========================================================="
   ]
  },
  {
   "cell_type": "code",
   "execution_count": 5,
   "metadata": {
    "executionInfo": {
     "elapsed": 1780,
     "status": "ok",
     "timestamp": 1615611451504,
     "user": {
      "displayName": "Peter Forez",
      "photoUrl": "",
      "userId": "11505129390976081387"
     },
     "user_tz": -120
    },
    "id": "IMB8NKujF7pi"
   },
   "outputs": [],
   "source": [
    "# URLs for the files that should be downloaded\n",
    "twitter_archive_enhanced_url = \"https://d17h27t6h515a5.cloudfront.net/topher/2017/August/59a4e958_twitter-archive-enhanced/twitter-archive-enhanced.csv\"\n",
    "image_prediction_url         = \"https://d17h27t6h515a5.cloudfront.net/topher/2017/August/599fd2ad_image-predictions/image-predictions.tsv\"\n",
    "tweet_json_url               = \"https://video.udacity-data.com/topher/2018/November/5be5fb7d_tweet-json/tweet-json.txt\""
   ]
  },
  {
   "cell_type": "code",
   "execution_count": 6,
   "metadata": {
    "executionInfo": {
     "elapsed": 3056,
     "status": "ok",
     "timestamp": 1615611452786,
     "user": {
      "displayName": "Peter Forez",
      "photoUrl": "",
      "userId": "11505129390976081387"
     },
     "user_tz": -120
    },
    "id": "6_tqy4pnF7pi"
   },
   "outputs": [],
   "source": [
    "# Download the files in the current directory\n",
    "download_file(twitter_archive_enhanced_url)\n",
    "download_file(image_prediction_url)\n",
    "download_file(tweet_json_url)"
   ]
  },
  {
   "cell_type": "code",
   "execution_count": 7,
   "metadata": {
    "executionInfo": {
     "elapsed": 3052,
     "status": "ok",
     "timestamp": 1615611452787,
     "user": {
      "displayName": "Peter Forez",
      "photoUrl": "",
      "userId": "11505129390976081387"
     },
     "user_tz": -120
    },
    "id": "JkDwFuh7F7pi"
   },
   "outputs": [],
   "source": [
    "# Create a dataframe for each dataset\n",
    "twitter_archive_enhanced_df = pd.read_csv(twitter_archive_enhanced_url.split(\"/\")[-1])\n",
    "image_predictions_pd        = pd.read_csv(image_prediction_url.split(\"/\")[-1], sep = \"\\t\")"
   ]
  },
  {
   "cell_type": "code",
   "execution_count": 8,
   "metadata": {
    "executionInfo": {
     "elapsed": 3844,
     "status": "ok",
     "timestamp": 1615611453584,
     "user": {
      "displayName": "Peter Forez",
      "photoUrl": "",
      "userId": "11505129390976081387"
     },
     "user_tz": -120
    },
    "id": "eZa7aqZIF7pi"
   },
   "outputs": [],
   "source": [
    "# Create a dataframe for jason file\n",
    "with open(tweet_json_url.split(\"/\")[-1], encoding='utf-8') as f:\n",
    "    data = \"[\" + f.read().replace(\"}\\n\", \"},\\n\") + \"]\"\n",
    "    data = data[:-3]  + \"]\"\n",
    "    data = json.loads(data)\n",
    "json_df = pd.DataFrame.from_dict(data)\n",
    "json_df.to_csv('json.csv', index=False)"
   ]
  },
  {
   "cell_type": "markdown",
   "metadata": {
    "id": "7Nf4ALhQF7pi"
   },
   "source": [
    "# Data Assessing\n",
    "# =========================================================="
   ]
  },
  {
   "cell_type": "code",
   "execution_count": 9,
   "metadata": {
    "colab": {
     "base_uri": "https://localhost:8080/",
     "height": 581
    },
    "executionInfo": {
     "elapsed": 3842,
     "status": "ok",
     "timestamp": 1615611453591,
     "user": {
      "displayName": "Peter Forez",
      "photoUrl": "",
      "userId": "11505129390976081387"
     },
     "user_tz": -120
    },
    "id": "oHtC60R_F7pj",
    "outputId": "ebbf74e5-2c81-489e-fdd7-3e34bfaa7780"
   },
   "outputs": [
    {
     "data": {
      "text/html": [
       "<div>\n",
       "<style scoped>\n",
       "    .dataframe tbody tr th:only-of-type {\n",
       "        vertical-align: middle;\n",
       "    }\n",
       "\n",
       "    .dataframe tbody tr th {\n",
       "        vertical-align: top;\n",
       "    }\n",
       "\n",
       "    .dataframe thead th {\n",
       "        text-align: right;\n",
       "    }\n",
       "</style>\n",
       "<table border=\"1\" class=\"dataframe\">\n",
       "  <thead>\n",
       "    <tr style=\"text-align: right;\">\n",
       "      <th></th>\n",
       "      <th>tweet_id</th>\n",
       "      <th>in_reply_to_status_id</th>\n",
       "      <th>in_reply_to_user_id</th>\n",
       "      <th>timestamp</th>\n",
       "      <th>source</th>\n",
       "      <th>text</th>\n",
       "      <th>retweeted_status_id</th>\n",
       "      <th>retweeted_status_user_id</th>\n",
       "      <th>retweeted_status_timestamp</th>\n",
       "      <th>expanded_urls</th>\n",
       "      <th>rating_numerator</th>\n",
       "      <th>rating_denominator</th>\n",
       "      <th>name</th>\n",
       "      <th>doggo</th>\n",
       "      <th>floofer</th>\n",
       "      <th>pupper</th>\n",
       "      <th>puppo</th>\n",
       "    </tr>\n",
       "  </thead>\n",
       "  <tbody>\n",
       "    <tr>\n",
       "      <td>0</td>\n",
       "      <td>892420643555336193</td>\n",
       "      <td>NaN</td>\n",
       "      <td>NaN</td>\n",
       "      <td>2017-08-01 16:23:56 +0000</td>\n",
       "      <td>&lt;a href=\"http://twitter.com/download/iphone\" r...</td>\n",
       "      <td>This is Phineas. He's a mystical boy. Only eve...</td>\n",
       "      <td>NaN</td>\n",
       "      <td>NaN</td>\n",
       "      <td>NaN</td>\n",
       "      <td>https://twitter.com/dog_rates/status/892420643...</td>\n",
       "      <td>13</td>\n",
       "      <td>10</td>\n",
       "      <td>Phineas</td>\n",
       "      <td>None</td>\n",
       "      <td>None</td>\n",
       "      <td>None</td>\n",
       "      <td>None</td>\n",
       "    </tr>\n",
       "    <tr>\n",
       "      <td>1</td>\n",
       "      <td>892177421306343426</td>\n",
       "      <td>NaN</td>\n",
       "      <td>NaN</td>\n",
       "      <td>2017-08-01 00:17:27 +0000</td>\n",
       "      <td>&lt;a href=\"http://twitter.com/download/iphone\" r...</td>\n",
       "      <td>This is Tilly. She's just checking pup on you....</td>\n",
       "      <td>NaN</td>\n",
       "      <td>NaN</td>\n",
       "      <td>NaN</td>\n",
       "      <td>https://twitter.com/dog_rates/status/892177421...</td>\n",
       "      <td>13</td>\n",
       "      <td>10</td>\n",
       "      <td>Tilly</td>\n",
       "      <td>None</td>\n",
       "      <td>None</td>\n",
       "      <td>None</td>\n",
       "      <td>None</td>\n",
       "    </tr>\n",
       "    <tr>\n",
       "      <td>2</td>\n",
       "      <td>891815181378084864</td>\n",
       "      <td>NaN</td>\n",
       "      <td>NaN</td>\n",
       "      <td>2017-07-31 00:18:03 +0000</td>\n",
       "      <td>&lt;a href=\"http://twitter.com/download/iphone\" r...</td>\n",
       "      <td>This is Archie. He is a rare Norwegian Pouncin...</td>\n",
       "      <td>NaN</td>\n",
       "      <td>NaN</td>\n",
       "      <td>NaN</td>\n",
       "      <td>https://twitter.com/dog_rates/status/891815181...</td>\n",
       "      <td>12</td>\n",
       "      <td>10</td>\n",
       "      <td>Archie</td>\n",
       "      <td>None</td>\n",
       "      <td>None</td>\n",
       "      <td>None</td>\n",
       "      <td>None</td>\n",
       "    </tr>\n",
       "    <tr>\n",
       "      <td>3</td>\n",
       "      <td>891689557279858688</td>\n",
       "      <td>NaN</td>\n",
       "      <td>NaN</td>\n",
       "      <td>2017-07-30 15:58:51 +0000</td>\n",
       "      <td>&lt;a href=\"http://twitter.com/download/iphone\" r...</td>\n",
       "      <td>This is Darla. She commenced a snooze mid meal...</td>\n",
       "      <td>NaN</td>\n",
       "      <td>NaN</td>\n",
       "      <td>NaN</td>\n",
       "      <td>https://twitter.com/dog_rates/status/891689557...</td>\n",
       "      <td>13</td>\n",
       "      <td>10</td>\n",
       "      <td>Darla</td>\n",
       "      <td>None</td>\n",
       "      <td>None</td>\n",
       "      <td>None</td>\n",
       "      <td>None</td>\n",
       "    </tr>\n",
       "    <tr>\n",
       "      <td>4</td>\n",
       "      <td>891327558926688256</td>\n",
       "      <td>NaN</td>\n",
       "      <td>NaN</td>\n",
       "      <td>2017-07-29 16:00:24 +0000</td>\n",
       "      <td>&lt;a href=\"http://twitter.com/download/iphone\" r...</td>\n",
       "      <td>This is Franklin. He would like you to stop ca...</td>\n",
       "      <td>NaN</td>\n",
       "      <td>NaN</td>\n",
       "      <td>NaN</td>\n",
       "      <td>https://twitter.com/dog_rates/status/891327558...</td>\n",
       "      <td>12</td>\n",
       "      <td>10</td>\n",
       "      <td>Franklin</td>\n",
       "      <td>None</td>\n",
       "      <td>None</td>\n",
       "      <td>None</td>\n",
       "      <td>None</td>\n",
       "    </tr>\n",
       "  </tbody>\n",
       "</table>\n",
       "</div>"
      ],
      "text/plain": [
       "             tweet_id  in_reply_to_status_id  in_reply_to_user_id  \\\n",
       "0  892420643555336193                    NaN                  NaN   \n",
       "1  892177421306343426                    NaN                  NaN   \n",
       "2  891815181378084864                    NaN                  NaN   \n",
       "3  891689557279858688                    NaN                  NaN   \n",
       "4  891327558926688256                    NaN                  NaN   \n",
       "\n",
       "                   timestamp  \\\n",
       "0  2017-08-01 16:23:56 +0000   \n",
       "1  2017-08-01 00:17:27 +0000   \n",
       "2  2017-07-31 00:18:03 +0000   \n",
       "3  2017-07-30 15:58:51 +0000   \n",
       "4  2017-07-29 16:00:24 +0000   \n",
       "\n",
       "                                              source  \\\n",
       "0  <a href=\"http://twitter.com/download/iphone\" r...   \n",
       "1  <a href=\"http://twitter.com/download/iphone\" r...   \n",
       "2  <a href=\"http://twitter.com/download/iphone\" r...   \n",
       "3  <a href=\"http://twitter.com/download/iphone\" r...   \n",
       "4  <a href=\"http://twitter.com/download/iphone\" r...   \n",
       "\n",
       "                                                text  retweeted_status_id  \\\n",
       "0  This is Phineas. He's a mystical boy. Only eve...                  NaN   \n",
       "1  This is Tilly. She's just checking pup on you....                  NaN   \n",
       "2  This is Archie. He is a rare Norwegian Pouncin...                  NaN   \n",
       "3  This is Darla. She commenced a snooze mid meal...                  NaN   \n",
       "4  This is Franklin. He would like you to stop ca...                  NaN   \n",
       "\n",
       "   retweeted_status_user_id retweeted_status_timestamp  \\\n",
       "0                       NaN                        NaN   \n",
       "1                       NaN                        NaN   \n",
       "2                       NaN                        NaN   \n",
       "3                       NaN                        NaN   \n",
       "4                       NaN                        NaN   \n",
       "\n",
       "                                       expanded_urls  rating_numerator  \\\n",
       "0  https://twitter.com/dog_rates/status/892420643...                13   \n",
       "1  https://twitter.com/dog_rates/status/892177421...                13   \n",
       "2  https://twitter.com/dog_rates/status/891815181...                12   \n",
       "3  https://twitter.com/dog_rates/status/891689557...                13   \n",
       "4  https://twitter.com/dog_rates/status/891327558...                12   \n",
       "\n",
       "   rating_denominator      name doggo floofer pupper puppo  \n",
       "0                  10   Phineas  None    None   None  None  \n",
       "1                  10     Tilly  None    None   None  None  \n",
       "2                  10    Archie  None    None   None  None  \n",
       "3                  10     Darla  None    None   None  None  \n",
       "4                  10  Franklin  None    None   None  None  "
      ]
     },
     "execution_count": 9,
     "metadata": {},
     "output_type": "execute_result"
    }
   ],
   "source": [
    "twitter_archive_enhanced_df.head()"
   ]
  },
  {
   "cell_type": "code",
   "execution_count": 10,
   "metadata": {
    "colab": {
     "base_uri": "https://localhost:8080/",
     "height": 297
    },
    "executionInfo": {
     "elapsed": 3830,
     "status": "ok",
     "timestamp": 1615611453592,
     "user": {
      "displayName": "Peter Forez",
      "photoUrl": "",
      "userId": "11505129390976081387"
     },
     "user_tz": -120
    },
    "id": "tzyQTy0yUekL",
    "outputId": "f7a9cbde-26d5-4d51-efbf-0d1d3b4d42a4"
   },
   "outputs": [
    {
     "data": {
      "text/html": [
       "<div>\n",
       "<style scoped>\n",
       "    .dataframe tbody tr th:only-of-type {\n",
       "        vertical-align: middle;\n",
       "    }\n",
       "\n",
       "    .dataframe tbody tr th {\n",
       "        vertical-align: top;\n",
       "    }\n",
       "\n",
       "    .dataframe thead th {\n",
       "        text-align: right;\n",
       "    }\n",
       "</style>\n",
       "<table border=\"1\" class=\"dataframe\">\n",
       "  <thead>\n",
       "    <tr style=\"text-align: right;\">\n",
       "      <th></th>\n",
       "      <th>tweet_id</th>\n",
       "      <th>in_reply_to_status_id</th>\n",
       "      <th>in_reply_to_user_id</th>\n",
       "      <th>retweeted_status_id</th>\n",
       "      <th>retweeted_status_user_id</th>\n",
       "      <th>rating_numerator</th>\n",
       "      <th>rating_denominator</th>\n",
       "    </tr>\n",
       "  </thead>\n",
       "  <tbody>\n",
       "    <tr>\n",
       "      <td>count</td>\n",
       "      <td>2.356000e+03</td>\n",
       "      <td>7.800000e+01</td>\n",
       "      <td>7.800000e+01</td>\n",
       "      <td>1.810000e+02</td>\n",
       "      <td>1.810000e+02</td>\n",
       "      <td>2356.000000</td>\n",
       "      <td>2356.000000</td>\n",
       "    </tr>\n",
       "    <tr>\n",
       "      <td>mean</td>\n",
       "      <td>7.427716e+17</td>\n",
       "      <td>7.455079e+17</td>\n",
       "      <td>2.014171e+16</td>\n",
       "      <td>7.720400e+17</td>\n",
       "      <td>1.241698e+16</td>\n",
       "      <td>13.126486</td>\n",
       "      <td>10.455433</td>\n",
       "    </tr>\n",
       "    <tr>\n",
       "      <td>std</td>\n",
       "      <td>6.856705e+16</td>\n",
       "      <td>7.582492e+16</td>\n",
       "      <td>1.252797e+17</td>\n",
       "      <td>6.236928e+16</td>\n",
       "      <td>9.599254e+16</td>\n",
       "      <td>45.876648</td>\n",
       "      <td>6.745237</td>\n",
       "    </tr>\n",
       "    <tr>\n",
       "      <td>min</td>\n",
       "      <td>6.660209e+17</td>\n",
       "      <td>6.658147e+17</td>\n",
       "      <td>1.185634e+07</td>\n",
       "      <td>6.661041e+17</td>\n",
       "      <td>7.832140e+05</td>\n",
       "      <td>0.000000</td>\n",
       "      <td>0.000000</td>\n",
       "    </tr>\n",
       "    <tr>\n",
       "      <td>25%</td>\n",
       "      <td>6.783989e+17</td>\n",
       "      <td>6.757419e+17</td>\n",
       "      <td>3.086374e+08</td>\n",
       "      <td>7.186315e+17</td>\n",
       "      <td>4.196984e+09</td>\n",
       "      <td>10.000000</td>\n",
       "      <td>10.000000</td>\n",
       "    </tr>\n",
       "    <tr>\n",
       "      <td>50%</td>\n",
       "      <td>7.196279e+17</td>\n",
       "      <td>7.038708e+17</td>\n",
       "      <td>4.196984e+09</td>\n",
       "      <td>7.804657e+17</td>\n",
       "      <td>4.196984e+09</td>\n",
       "      <td>11.000000</td>\n",
       "      <td>10.000000</td>\n",
       "    </tr>\n",
       "    <tr>\n",
       "      <td>75%</td>\n",
       "      <td>7.993373e+17</td>\n",
       "      <td>8.257804e+17</td>\n",
       "      <td>4.196984e+09</td>\n",
       "      <td>8.203146e+17</td>\n",
       "      <td>4.196984e+09</td>\n",
       "      <td>12.000000</td>\n",
       "      <td>10.000000</td>\n",
       "    </tr>\n",
       "    <tr>\n",
       "      <td>max</td>\n",
       "      <td>8.924206e+17</td>\n",
       "      <td>8.862664e+17</td>\n",
       "      <td>8.405479e+17</td>\n",
       "      <td>8.874740e+17</td>\n",
       "      <td>7.874618e+17</td>\n",
       "      <td>1776.000000</td>\n",
       "      <td>170.000000</td>\n",
       "    </tr>\n",
       "  </tbody>\n",
       "</table>\n",
       "</div>"
      ],
      "text/plain": [
       "           tweet_id  in_reply_to_status_id  in_reply_to_user_id  \\\n",
       "count  2.356000e+03           7.800000e+01         7.800000e+01   \n",
       "mean   7.427716e+17           7.455079e+17         2.014171e+16   \n",
       "std    6.856705e+16           7.582492e+16         1.252797e+17   \n",
       "min    6.660209e+17           6.658147e+17         1.185634e+07   \n",
       "25%    6.783989e+17           6.757419e+17         3.086374e+08   \n",
       "50%    7.196279e+17           7.038708e+17         4.196984e+09   \n",
       "75%    7.993373e+17           8.257804e+17         4.196984e+09   \n",
       "max    8.924206e+17           8.862664e+17         8.405479e+17   \n",
       "\n",
       "       retweeted_status_id  retweeted_status_user_id  rating_numerator  \\\n",
       "count         1.810000e+02              1.810000e+02       2356.000000   \n",
       "mean          7.720400e+17              1.241698e+16         13.126486   \n",
       "std           6.236928e+16              9.599254e+16         45.876648   \n",
       "min           6.661041e+17              7.832140e+05          0.000000   \n",
       "25%           7.186315e+17              4.196984e+09         10.000000   \n",
       "50%           7.804657e+17              4.196984e+09         11.000000   \n",
       "75%           8.203146e+17              4.196984e+09         12.000000   \n",
       "max           8.874740e+17              7.874618e+17       1776.000000   \n",
       "\n",
       "       rating_denominator  \n",
       "count         2356.000000  \n",
       "mean            10.455433  \n",
       "std              6.745237  \n",
       "min              0.000000  \n",
       "25%             10.000000  \n",
       "50%             10.000000  \n",
       "75%             10.000000  \n",
       "max            170.000000  "
      ]
     },
     "execution_count": 10,
     "metadata": {},
     "output_type": "execute_result"
    }
   ],
   "source": [
    "twitter_archive_enhanced_df.describe()"
   ]
  },
  {
   "cell_type": "code",
   "execution_count": 11,
   "metadata": {
    "colab": {
     "base_uri": "https://localhost:8080/"
    },
    "executionInfo": {
     "elapsed": 3819,
     "status": "ok",
     "timestamp": 1615611453593,
     "user": {
      "displayName": "Peter Forez",
      "photoUrl": "",
      "userId": "11505129390976081387"
     },
     "user_tz": -120
    },
    "id": "9K70_LD_F7pk",
    "outputId": "e02abfc8-fc5f-46e1-e5d7-08b5c85ff187"
   },
   "outputs": [
    {
     "name": "stdout",
     "output_type": "stream",
     "text": [
      "<class 'pandas.core.frame.DataFrame'>\n",
      "RangeIndex: 2356 entries, 0 to 2355\n",
      "Data columns (total 17 columns):\n",
      "tweet_id                      2356 non-null int64\n",
      "in_reply_to_status_id         78 non-null float64\n",
      "in_reply_to_user_id           78 non-null float64\n",
      "timestamp                     2356 non-null object\n",
      "source                        2356 non-null object\n",
      "text                          2356 non-null object\n",
      "retweeted_status_id           181 non-null float64\n",
      "retweeted_status_user_id      181 non-null float64\n",
      "retweeted_status_timestamp    181 non-null object\n",
      "expanded_urls                 2297 non-null object\n",
      "rating_numerator              2356 non-null int64\n",
      "rating_denominator            2356 non-null int64\n",
      "name                          2356 non-null object\n",
      "doggo                         2356 non-null object\n",
      "floofer                       2356 non-null object\n",
      "pupper                        2356 non-null object\n",
      "puppo                         2356 non-null object\n",
      "dtypes: float64(4), int64(3), object(10)\n",
      "memory usage: 313.0+ KB\n"
     ]
    }
   ],
   "source": [
    "twitter_archive_enhanced_df.info()"
   ]
  },
  {
   "cell_type": "code",
   "execution_count": 12,
   "metadata": {
    "colab": {
     "base_uri": "https://localhost:8080/"
    },
    "executionInfo": {
     "elapsed": 3808,
     "status": "ok",
     "timestamp": 1615611453594,
     "user": {
      "displayName": "Peter Forez",
      "photoUrl": "",
      "userId": "11505129390976081387"
     },
     "user_tz": -120
    },
    "id": "0ho1R2V_F7pk",
    "outputId": "26248290-8139-422f-9714-ed24cdf47740"
   },
   "outputs": [
    {
     "data": {
      "text/plain": [
       "tweet_id                         0\n",
       "in_reply_to_status_id         2278\n",
       "in_reply_to_user_id           2278\n",
       "timestamp                        0\n",
       "source                           0\n",
       "text                             0\n",
       "retweeted_status_id           2175\n",
       "retweeted_status_user_id      2175\n",
       "retweeted_status_timestamp    2175\n",
       "expanded_urls                   59\n",
       "rating_numerator                 0\n",
       "rating_denominator               0\n",
       "name                             0\n",
       "doggo                            0\n",
       "floofer                          0\n",
       "pupper                           0\n",
       "puppo                            0\n",
       "dtype: int64"
      ]
     },
     "execution_count": 12,
     "metadata": {},
     "output_type": "execute_result"
    }
   ],
   "source": [
    "twitter_archive_enhanced_df.isna().sum()"
   ]
  },
  {
   "cell_type": "code",
   "execution_count": 13,
   "metadata": {
    "colab": {
     "base_uri": "https://localhost:8080/",
     "height": 69
    },
    "executionInfo": {
     "elapsed": 3794,
     "status": "ok",
     "timestamp": 1615611453594,
     "user": {
      "displayName": "Peter Forez",
      "photoUrl": "",
      "userId": "11505129390976081387"
     },
     "user_tz": -120
    },
    "id": "PjGr4u1qF7pk",
    "outputId": "7bf70166-6af9-43e9-a28f-6090f947482f"
   },
   "outputs": [
    {
     "data": {
      "text/html": [
       "<div>\n",
       "<style scoped>\n",
       "    .dataframe tbody tr th:only-of-type {\n",
       "        vertical-align: middle;\n",
       "    }\n",
       "\n",
       "    .dataframe tbody tr th {\n",
       "        vertical-align: top;\n",
       "    }\n",
       "\n",
       "    .dataframe thead th {\n",
       "        text-align: right;\n",
       "    }\n",
       "</style>\n",
       "<table border=\"1\" class=\"dataframe\">\n",
       "  <thead>\n",
       "    <tr style=\"text-align: right;\">\n",
       "      <th></th>\n",
       "      <th>tweet_id</th>\n",
       "      <th>in_reply_to_status_id</th>\n",
       "      <th>in_reply_to_user_id</th>\n",
       "      <th>timestamp</th>\n",
       "      <th>source</th>\n",
       "      <th>text</th>\n",
       "      <th>retweeted_status_id</th>\n",
       "      <th>retweeted_status_user_id</th>\n",
       "      <th>retweeted_status_timestamp</th>\n",
       "      <th>expanded_urls</th>\n",
       "      <th>rating_numerator</th>\n",
       "      <th>rating_denominator</th>\n",
       "      <th>name</th>\n",
       "      <th>doggo</th>\n",
       "      <th>floofer</th>\n",
       "      <th>pupper</th>\n",
       "      <th>puppo</th>\n",
       "    </tr>\n",
       "  </thead>\n",
       "  <tbody>\n",
       "  </tbody>\n",
       "</table>\n",
       "</div>"
      ],
      "text/plain": [
       "Empty DataFrame\n",
       "Columns: [tweet_id, in_reply_to_status_id, in_reply_to_user_id, timestamp, source, text, retweeted_status_id, retweeted_status_user_id, retweeted_status_timestamp, expanded_urls, rating_numerator, rating_denominator, name, doggo, floofer, pupper, puppo]\n",
       "Index: []"
      ]
     },
     "execution_count": 13,
     "metadata": {},
     "output_type": "execute_result"
    }
   ],
   "source": [
    "twitter_archive_enhanced_df[twitter_archive_enhanced_df.tweet_id.duplicated()]"
   ]
  },
  {
   "cell_type": "code",
   "execution_count": 14,
   "metadata": {
    "colab": {
     "base_uri": "https://localhost:8080/"
    },
    "executionInfo": {
     "elapsed": 3784,
     "status": "ok",
     "timestamp": 1615611453595,
     "user": {
      "displayName": "Peter Forez",
      "photoUrl": "",
      "userId": "11505129390976081387"
     },
     "user_tz": -120
    },
    "id": "Am6OSMcJF7pk",
    "outputId": "3a612c0d-b1e2-40d8-8018-f135a3ca063e"
   },
   "outputs": [
    {
     "data": {
      "text/plain": [
       "10     2333\n",
       "11        3\n",
       "50        3\n",
       "80        2\n",
       "20        2\n",
       "2         1\n",
       "16        1\n",
       "40        1\n",
       "70        1\n",
       "15        1\n",
       "90        1\n",
       "110       1\n",
       "120       1\n",
       "130       1\n",
       "150       1\n",
       "170       1\n",
       "7         1\n",
       "0         1\n",
       "Name: rating_denominator, dtype: int64"
      ]
     },
     "execution_count": 14,
     "metadata": {},
     "output_type": "execute_result"
    }
   ],
   "source": [
    "twitter_archive_enhanced_df.rating_denominator.value_counts()"
   ]
  },
  {
   "cell_type": "code",
   "execution_count": 15,
   "metadata": {
    "colab": {
     "base_uri": "https://localhost:8080/"
    },
    "executionInfo": {
     "elapsed": 3773,
     "status": "ok",
     "timestamp": 1615611453596,
     "user": {
      "displayName": "Peter Forez",
      "photoUrl": "",
      "userId": "11505129390976081387"
     },
     "user_tz": -120
    },
    "id": "qiG_cneKF7pl",
    "outputId": "6a7733aa-b6e3-4fe7-8e74-5901dea4b432"
   },
   "outputs": [
    {
     "data": {
      "text/plain": [
       "440"
      ]
     },
     "execution_count": 15,
     "metadata": {},
     "output_type": "execute_result"
    }
   ],
   "source": [
    "twitter_archive_enhanced_df[twitter_archive_enhanced_df.rating_numerator<10].rating_numerator.value_counts().sum()"
   ]
  },
  {
   "cell_type": "code",
   "execution_count": 16,
   "metadata": {
    "colab": {
     "base_uri": "https://localhost:8080/",
     "height": 204
    },
    "executionInfo": {
     "elapsed": 3761,
     "status": "ok",
     "timestamp": 1615611453598,
     "user": {
      "displayName": "Peter Forez",
      "photoUrl": "",
      "userId": "11505129390976081387"
     },
     "user_tz": -120
    },
    "id": "kIQZeIEdF7pl",
    "outputId": "b88f4218-48b3-4b5b-9f7f-f8b5a832d8fc"
   },
   "outputs": [
    {
     "data": {
      "text/html": [
       "<div>\n",
       "<style scoped>\n",
       "    .dataframe tbody tr th:only-of-type {\n",
       "        vertical-align: middle;\n",
       "    }\n",
       "\n",
       "    .dataframe tbody tr th {\n",
       "        vertical-align: top;\n",
       "    }\n",
       "\n",
       "    .dataframe thead th {\n",
       "        text-align: right;\n",
       "    }\n",
       "</style>\n",
       "<table border=\"1\" class=\"dataframe\">\n",
       "  <thead>\n",
       "    <tr style=\"text-align: right;\">\n",
       "      <th></th>\n",
       "      <th>tweet_id</th>\n",
       "      <th>jpg_url</th>\n",
       "      <th>img_num</th>\n",
       "      <th>p1</th>\n",
       "      <th>p1_conf</th>\n",
       "      <th>p1_dog</th>\n",
       "      <th>p2</th>\n",
       "      <th>p2_conf</th>\n",
       "      <th>p2_dog</th>\n",
       "      <th>p3</th>\n",
       "      <th>p3_conf</th>\n",
       "      <th>p3_dog</th>\n",
       "    </tr>\n",
       "  </thead>\n",
       "  <tbody>\n",
       "    <tr>\n",
       "      <td>0</td>\n",
       "      <td>666020888022790149</td>\n",
       "      <td>https://pbs.twimg.com/media/CT4udn0WwAA0aMy.jpg</td>\n",
       "      <td>1</td>\n",
       "      <td>Welsh_springer_spaniel</td>\n",
       "      <td>0.465074</td>\n",
       "      <td>True</td>\n",
       "      <td>collie</td>\n",
       "      <td>0.156665</td>\n",
       "      <td>True</td>\n",
       "      <td>Shetland_sheepdog</td>\n",
       "      <td>0.061428</td>\n",
       "      <td>True</td>\n",
       "    </tr>\n",
       "    <tr>\n",
       "      <td>1</td>\n",
       "      <td>666029285002620928</td>\n",
       "      <td>https://pbs.twimg.com/media/CT42GRgUYAA5iDo.jpg</td>\n",
       "      <td>1</td>\n",
       "      <td>redbone</td>\n",
       "      <td>0.506826</td>\n",
       "      <td>True</td>\n",
       "      <td>miniature_pinscher</td>\n",
       "      <td>0.074192</td>\n",
       "      <td>True</td>\n",
       "      <td>Rhodesian_ridgeback</td>\n",
       "      <td>0.072010</td>\n",
       "      <td>True</td>\n",
       "    </tr>\n",
       "    <tr>\n",
       "      <td>2</td>\n",
       "      <td>666033412701032449</td>\n",
       "      <td>https://pbs.twimg.com/media/CT4521TWwAEvMyu.jpg</td>\n",
       "      <td>1</td>\n",
       "      <td>German_shepherd</td>\n",
       "      <td>0.596461</td>\n",
       "      <td>True</td>\n",
       "      <td>malinois</td>\n",
       "      <td>0.138584</td>\n",
       "      <td>True</td>\n",
       "      <td>bloodhound</td>\n",
       "      <td>0.116197</td>\n",
       "      <td>True</td>\n",
       "    </tr>\n",
       "    <tr>\n",
       "      <td>3</td>\n",
       "      <td>666044226329800704</td>\n",
       "      <td>https://pbs.twimg.com/media/CT5Dr8HUEAA-lEu.jpg</td>\n",
       "      <td>1</td>\n",
       "      <td>Rhodesian_ridgeback</td>\n",
       "      <td>0.408143</td>\n",
       "      <td>True</td>\n",
       "      <td>redbone</td>\n",
       "      <td>0.360687</td>\n",
       "      <td>True</td>\n",
       "      <td>miniature_pinscher</td>\n",
       "      <td>0.222752</td>\n",
       "      <td>True</td>\n",
       "    </tr>\n",
       "    <tr>\n",
       "      <td>4</td>\n",
       "      <td>666049248165822465</td>\n",
       "      <td>https://pbs.twimg.com/media/CT5IQmsXIAAKY4A.jpg</td>\n",
       "      <td>1</td>\n",
       "      <td>miniature_pinscher</td>\n",
       "      <td>0.560311</td>\n",
       "      <td>True</td>\n",
       "      <td>Rottweiler</td>\n",
       "      <td>0.243682</td>\n",
       "      <td>True</td>\n",
       "      <td>Doberman</td>\n",
       "      <td>0.154629</td>\n",
       "      <td>True</td>\n",
       "    </tr>\n",
       "  </tbody>\n",
       "</table>\n",
       "</div>"
      ],
      "text/plain": [
       "             tweet_id                                          jpg_url  \\\n",
       "0  666020888022790149  https://pbs.twimg.com/media/CT4udn0WwAA0aMy.jpg   \n",
       "1  666029285002620928  https://pbs.twimg.com/media/CT42GRgUYAA5iDo.jpg   \n",
       "2  666033412701032449  https://pbs.twimg.com/media/CT4521TWwAEvMyu.jpg   \n",
       "3  666044226329800704  https://pbs.twimg.com/media/CT5Dr8HUEAA-lEu.jpg   \n",
       "4  666049248165822465  https://pbs.twimg.com/media/CT5IQmsXIAAKY4A.jpg   \n",
       "\n",
       "   img_num                      p1   p1_conf  p1_dog                  p2  \\\n",
       "0        1  Welsh_springer_spaniel  0.465074    True              collie   \n",
       "1        1                 redbone  0.506826    True  miniature_pinscher   \n",
       "2        1         German_shepherd  0.596461    True            malinois   \n",
       "3        1     Rhodesian_ridgeback  0.408143    True             redbone   \n",
       "4        1      miniature_pinscher  0.560311    True          Rottweiler   \n",
       "\n",
       "    p2_conf  p2_dog                   p3   p3_conf  p3_dog  \n",
       "0  0.156665    True    Shetland_sheepdog  0.061428    True  \n",
       "1  0.074192    True  Rhodesian_ridgeback  0.072010    True  \n",
       "2  0.138584    True           bloodhound  0.116197    True  \n",
       "3  0.360687    True   miniature_pinscher  0.222752    True  \n",
       "4  0.243682    True             Doberman  0.154629    True  "
      ]
     },
     "execution_count": 16,
     "metadata": {},
     "output_type": "execute_result"
    }
   ],
   "source": [
    "image_predictions_pd.head()"
   ]
  },
  {
   "cell_type": "code",
   "execution_count": 17,
   "metadata": {
    "colab": {
     "base_uri": "https://localhost:8080/"
    },
    "executionInfo": {
     "elapsed": 3750,
     "status": "ok",
     "timestamp": 1615611453599,
     "user": {
      "displayName": "Peter Forez",
      "photoUrl": "",
      "userId": "11505129390976081387"
     },
     "user_tz": -120
    },
    "id": "DCu4_dj7F7pl",
    "outputId": "658fbddc-cdd6-4a2e-90dc-ebad6ba4899d"
   },
   "outputs": [
    {
     "name": "stdout",
     "output_type": "stream",
     "text": [
      "<class 'pandas.core.frame.DataFrame'>\n",
      "RangeIndex: 2075 entries, 0 to 2074\n",
      "Data columns (total 12 columns):\n",
      "tweet_id    2075 non-null int64\n",
      "jpg_url     2075 non-null object\n",
      "img_num     2075 non-null int64\n",
      "p1          2075 non-null object\n",
      "p1_conf     2075 non-null float64\n",
      "p1_dog      2075 non-null bool\n",
      "p2          2075 non-null object\n",
      "p2_conf     2075 non-null float64\n",
      "p2_dog      2075 non-null bool\n",
      "p3          2075 non-null object\n",
      "p3_conf     2075 non-null float64\n",
      "p3_dog      2075 non-null bool\n",
      "dtypes: bool(3), float64(3), int64(2), object(4)\n",
      "memory usage: 152.1+ KB\n"
     ]
    }
   ],
   "source": [
    "image_predictions_pd.info()"
   ]
  },
  {
   "cell_type": "code",
   "execution_count": 18,
   "metadata": {
    "colab": {
     "base_uri": "https://localhost:8080/"
    },
    "executionInfo": {
     "elapsed": 3740,
     "status": "ok",
     "timestamp": 1615611453600,
     "user": {
      "displayName": "Peter Forez",
      "photoUrl": "",
      "userId": "11505129390976081387"
     },
     "user_tz": -120
    },
    "id": "RK4eqSn3F7pm",
    "outputId": "fffb1321-7513-4c94-ef3d-2705d7b7112b"
   },
   "outputs": [
    {
     "data": {
      "text/plain": [
       "tweet_id    0\n",
       "jpg_url     0\n",
       "img_num     0\n",
       "p1          0\n",
       "p1_conf     0\n",
       "p1_dog      0\n",
       "p2          0\n",
       "p2_conf     0\n",
       "p2_dog      0\n",
       "p3          0\n",
       "p3_conf     0\n",
       "p3_dog      0\n",
       "dtype: int64"
      ]
     },
     "execution_count": 18,
     "metadata": {},
     "output_type": "execute_result"
    }
   ],
   "source": [
    "image_predictions_pd.isna().sum()"
   ]
  },
  {
   "cell_type": "code",
   "execution_count": 19,
   "metadata": {
    "colab": {
     "base_uri": "https://localhost:8080/",
     "height": 49
    },
    "executionInfo": {
     "elapsed": 3728,
     "status": "ok",
     "timestamp": 1615611453601,
     "user": {
      "displayName": "Peter Forez",
      "photoUrl": "",
      "userId": "11505129390976081387"
     },
     "user_tz": -120
    },
    "id": "7bSCzXp7F7pm",
    "outputId": "96a7a81e-f11b-467f-b73f-806255e12644"
   },
   "outputs": [
    {
     "data": {
      "text/html": [
       "<div>\n",
       "<style scoped>\n",
       "    .dataframe tbody tr th:only-of-type {\n",
       "        vertical-align: middle;\n",
       "    }\n",
       "\n",
       "    .dataframe tbody tr th {\n",
       "        vertical-align: top;\n",
       "    }\n",
       "\n",
       "    .dataframe thead th {\n",
       "        text-align: right;\n",
       "    }\n",
       "</style>\n",
       "<table border=\"1\" class=\"dataframe\">\n",
       "  <thead>\n",
       "    <tr style=\"text-align: right;\">\n",
       "      <th></th>\n",
       "      <th>tweet_id</th>\n",
       "      <th>jpg_url</th>\n",
       "      <th>img_num</th>\n",
       "      <th>p1</th>\n",
       "      <th>p1_conf</th>\n",
       "      <th>p1_dog</th>\n",
       "      <th>p2</th>\n",
       "      <th>p2_conf</th>\n",
       "      <th>p2_dog</th>\n",
       "      <th>p3</th>\n",
       "      <th>p3_conf</th>\n",
       "      <th>p3_dog</th>\n",
       "    </tr>\n",
       "  </thead>\n",
       "  <tbody>\n",
       "  </tbody>\n",
       "</table>\n",
       "</div>"
      ],
      "text/plain": [
       "Empty DataFrame\n",
       "Columns: [tweet_id, jpg_url, img_num, p1, p1_conf, p1_dog, p2, p2_conf, p2_dog, p3, p3_conf, p3_dog]\n",
       "Index: []"
      ]
     },
     "execution_count": 19,
     "metadata": {},
     "output_type": "execute_result"
    }
   ],
   "source": [
    "image_predictions_pd[image_predictions_pd.tweet_id.duplicated()]"
   ]
  },
  {
   "cell_type": "markdown",
   "metadata": {
    "id": "4m1Nm87wF7pm"
   },
   "source": [
    "## Quality Issues\n",
    "- The datatype of “timestamp” is not correct.\n",
    "- The datatype of of \"tweet_id\" is \"int64\"\n",
    "- The \"timestamp\" records have the same time zone.\n",
    "- There is records related to retweet and reply and we should not take them into our analysis.\n",
    "- The column \"source\" contains html code.\n",
    "- The column “text” contains short url links.\n",
    "- The column “text” contains “&amp;”.\n",
    "- The following columns contains 'None' value (doggo, floofer, pupper, puppo, name)\n",
    "- The column name contains incorrect names that start will lower case.\n",
    "- Some column names are not descriptive.\n",
    "- The “rating_denominator” contains value other than 10.\n"
   ]
  },
  {
   "cell_type": "markdown",
   "metadata": {
    "id": "581hkMCX57gn"
   },
   "source": [
    "## Tidiness Issues\n",
    "- The columns (doggo, floofer, pupper, puppo) have the same information about the “dog_stage” and should be in one column.\n",
    "- The three tables are parts of the same tweet and should be in one master table. "
   ]
  },
  {
   "cell_type": "markdown",
   "metadata": {
    "id": "V_D1mvxLF7pn"
   },
   "source": [
    "# Data Cleaning\n",
    "# =========================================================="
   ]
  },
  {
   "cell_type": "code",
   "execution_count": 20,
   "metadata": {
    "executionInfo": {
     "elapsed": 3719,
     "status": "ok",
     "timestamp": 1615611453601,
     "user": {
      "displayName": "Peter Forez",
      "photoUrl": "",
      "userId": "11505129390976081387"
     },
     "user_tz": -120
    },
    "id": "SCpN5ZKBF7pn"
   },
   "outputs": [],
   "source": [
    "# Make a copy of the original dataset\n",
    "twitter_archive_master  = twitter_archive_enhanced_df.copy()\n",
    "image_predictions_clean = image_predictions_pd.copy()"
   ]
  },
  {
   "cell_type": "markdown",
   "metadata": {
    "id": "GGeBldrGF7pn"
   },
   "source": [
    "## Point: Type of the column 'timestamp' is not datetime"
   ]
  },
  {
   "cell_type": "markdown",
   "metadata": {
    "id": "KyNsdAomF7pn"
   },
   "source": [
    "### Define\n",
    "- Change the data type of the 'timestamp' column to date instead of object"
   ]
  },
  {
   "cell_type": "markdown",
   "metadata": {
    "id": "YiQYMLfQF7pn"
   },
   "source": [
    "### Code"
   ]
  },
  {
   "cell_type": "code",
   "execution_count": 21,
   "metadata": {
    "executionInfo": {
     "elapsed": 3714,
     "status": "ok",
     "timestamp": 1615611453602,
     "user": {
      "displayName": "Peter Forez",
      "photoUrl": "",
      "userId": "11505129390976081387"
     },
     "user_tz": -120
    },
    "id": "j9-D8DrNjYR2"
   },
   "outputs": [],
   "source": [
    "# Remove the time zone from the 'timestamp'\n",
    "twitter_archive_master.timestamp = twitter_archive_master.timestamp.str[:-6]"
   ]
  },
  {
   "cell_type": "code",
   "execution_count": 22,
   "metadata": {
    "executionInfo": {
     "elapsed": 3710,
     "status": "ok",
     "timestamp": 1615611453603,
     "user": {
      "displayName": "Peter Forez",
      "photoUrl": "",
      "userId": "11505129390976081387"
     },
     "user_tz": -120
    },
    "id": "kSaSymFbF7po"
   },
   "outputs": [],
   "source": [
    "# Convert the data type to 'datetime' with the appropriate format\n",
    "twitter_archive_master.timestamp = pd.to_datetime(twitter_archive_master.timestamp, format = \"%Y-%m-%d %H:%M:%S\")"
   ]
  },
  {
   "cell_type": "markdown",
   "metadata": {
    "id": "CUhez5LYF7po"
   },
   "source": [
    "### Test"
   ]
  },
  {
   "cell_type": "code",
   "execution_count": 23,
   "metadata": {
    "colab": {
     "base_uri": "https://localhost:8080/"
    },
    "executionInfo": {
     "elapsed": 3965,
     "status": "ok",
     "timestamp": 1615611453860,
     "user": {
      "displayName": "Peter Forez",
      "photoUrl": "",
      "userId": "11505129390976081387"
     },
     "user_tz": -120
    },
    "id": "CPJ2nJCh8BXb",
    "outputId": "e85440fa-8641-4b6d-85ad-87cf37921e8a"
   },
   "outputs": [
    {
     "name": "stdout",
     "output_type": "stream",
     "text": [
      "Before:  object\n",
      "After:   datetime64[ns]\n"
     ]
    }
   ],
   "source": [
    "# Check the difference of the datatype between the original and copyied data set\n",
    "print(\"Before: \", twitter_archive_enhanced_df.timestamp.dtype)\n",
    "print(\"After:  \", twitter_archive_master.timestamp.dtype)"
   ]
  },
  {
   "cell_type": "markdown",
   "metadata": {
    "id": "eMzkzow0pAQS"
   },
   "source": [
    "## Point: Information about the retweet and reply records"
   ]
  },
  {
   "cell_type": "markdown",
   "metadata": {
    "id": "ELWUxIAGpAQV"
   },
   "source": [
    "### Define\n",
    "- As per the \"Key Points\" of the project: \"You only want original ratings (no retweets) that have images.\"\n",
    "- So we will remove the \"retweeted\" and \"reply\" records"
   ]
  },
  {
   "cell_type": "markdown",
   "metadata": {
    "id": "fNgSK19xpAQV"
   },
   "source": [
    "### Code"
   ]
  },
  {
   "cell_type": "code",
   "execution_count": 24,
   "metadata": {
    "executionInfo": {
     "elapsed": 3960,
     "status": "ok",
     "timestamp": 1615611453860,
     "user": {
      "displayName": "Peter Forez",
      "photoUrl": "",
      "userId": "11505129390976081387"
     },
     "user_tz": -120
    },
    "id": "2TENszO6pAQW"
   },
   "outputs": [],
   "source": [
    "# Remove the in_reply tweets\n",
    "twitter_archive_master = twitter_archive_master[twitter_archive_master.in_reply_to_status_id.isna()].copy()\n",
    "twitter_archive_master.drop(['in_reply_to_status_id', 'in_reply_to_user_id'], axis = 1, inplace = True)"
   ]
  },
  {
   "cell_type": "code",
   "execution_count": 25,
   "metadata": {
    "executionInfo": {
     "elapsed": 3956,
     "status": "ok",
     "timestamp": 1615611453861,
     "user": {
      "displayName": "Peter Forez",
      "photoUrl": "",
      "userId": "11505129390976081387"
     },
     "user_tz": -120
    },
    "id": "-bAbnPiHrBbB"
   },
   "outputs": [],
   "source": [
    "# Remove the retweeted tweets\n",
    "twitter_archive_master = twitter_archive_master[twitter_archive_master.retweeted_status_id.isna()].copy()\n",
    "twitter_archive_master.drop(['retweeted_status_id', 'retweeted_status_user_id', 'retweeted_status_timestamp'], axis = 1, inplace = True)"
   ]
  },
  {
   "cell_type": "markdown",
   "metadata": {
    "id": "ORg4moFYpAQW"
   },
   "source": [
    "### Test"
   ]
  },
  {
   "cell_type": "code",
   "execution_count": 26,
   "metadata": {
    "colab": {
     "base_uri": "https://localhost:8080/"
    },
    "executionInfo": {
     "elapsed": 3950,
     "status": "ok",
     "timestamp": 1615611453861,
     "user": {
      "displayName": "Peter Forez",
      "photoUrl": "",
      "userId": "11505129390976081387"
     },
     "user_tz": -120
    },
    "id": "S53kGVvgpAQX",
    "outputId": "0a16b22d-63da-4cbd-913c-3b853cfe620d"
   },
   "outputs": [
    {
     "name": "stdout",
     "output_type": "stream",
     "text": [
      "Before:  (2356, 17)\n",
      "After:   (2097, 12)\n"
     ]
    }
   ],
   "source": [
    "# Check that the columns are dropped and rows are removed\n",
    "print(\"Before: \", twitter_archive_enhanced_df.shape)\n",
    "print(\"After:  \", twitter_archive_master.shape)"
   ]
  },
  {
   "cell_type": "markdown",
   "metadata": {
    "id": "jGWdmxM-pAsT"
   },
   "source": [
    "## Point: The column source contains html code "
   ]
  },
  {
   "cell_type": "markdown",
   "metadata": {
    "id": "CfswNFt5pAsU"
   },
   "source": [
    "### Define\n",
    "- Extract the source from the html in the \"source\" column"
   ]
  },
  {
   "cell_type": "markdown",
   "metadata": {
    "id": "waB2fLZxpAsU"
   },
   "source": [
    "### Code"
   ]
  },
  {
   "cell_type": "code",
   "execution_count": 27,
   "metadata": {
    "executionInfo": {
     "elapsed": 3943,
     "status": "ok",
     "timestamp": 1615611453862,
     "user": {
      "displayName": "Peter Forez",
      "photoUrl": "",
      "userId": "11505129390976081387"
     },
     "user_tz": -120
    },
    "id": "g1emKiQZpAsU"
   },
   "outputs": [],
   "source": [
    "twitter_archive_master.loc[:,\"source\"] = twitter_archive_master.source.str.extract(r\">(.*)<\")[0]"
   ]
  },
  {
   "cell_type": "markdown",
   "metadata": {
    "id": "OF9aQ_rgpAsU"
   },
   "source": [
    "### Test"
   ]
  },
  {
   "cell_type": "code",
   "execution_count": 28,
   "metadata": {
    "colab": {
     "base_uri": "https://localhost:8080/"
    },
    "executionInfo": {
     "elapsed": 3939,
     "status": "ok",
     "timestamp": 1615611453863,
     "user": {
      "displayName": "Peter Forez",
      "photoUrl": "",
      "userId": "11505129390976081387"
     },
     "user_tz": -120
    },
    "id": "rEWe3maC2NmT",
    "outputId": "9e322c56-4488-43ac-90dc-76eb169fe294"
   },
   "outputs": [
    {
     "data": {
      "text/plain": [
       "<a href=\"http://twitter.com/download/iphone\" rel=\"nofollow\">Twitter for iPhone</a>     2221\n",
       "<a href=\"http://vine.co\" rel=\"nofollow\">Vine - Make a Scene</a>                          91\n",
       "<a href=\"http://twitter.com\" rel=\"nofollow\">Twitter Web Client</a>                       33\n",
       "<a href=\"https://about.twitter.com/products/tweetdeck\" rel=\"nofollow\">TweetDeck</a>      11\n",
       "Name: source, dtype: int64"
      ]
     },
     "execution_count": 28,
     "metadata": {},
     "output_type": "execute_result"
    }
   ],
   "source": [
    "# Before\n",
    "twitter_archive_enhanced_df.source.value_counts()"
   ]
  },
  {
   "cell_type": "code",
   "execution_count": 29,
   "metadata": {
    "colab": {
     "base_uri": "https://localhost:8080/"
    },
    "executionInfo": {
     "elapsed": 3931,
     "status": "ok",
     "timestamp": 1615611453864,
     "user": {
      "displayName": "Peter Forez",
      "photoUrl": "",
      "userId": "11505129390976081387"
     },
     "user_tz": -120
    },
    "id": "0AR_eHvspAsV",
    "outputId": "90ae4aa0-2079-4572-c667-f052e9c82752"
   },
   "outputs": [
    {
     "data": {
      "text/plain": [
       "Twitter for iPhone     1964\n",
       "Vine - Make a Scene      91\n",
       "Twitter Web Client       31\n",
       "TweetDeck                11\n",
       "Name: source, dtype: int64"
      ]
     },
     "execution_count": 29,
     "metadata": {},
     "output_type": "execute_result"
    }
   ],
   "source": [
    "# After\n",
    "twitter_archive_master.source.value_counts()"
   ]
  },
  {
   "cell_type": "markdown",
   "metadata": {
    "id": "LD8IEVVUF7po"
   },
   "source": [
    "## Point: 'text' column contains short_url"
   ]
  },
  {
   "cell_type": "markdown",
   "metadata": {
    "id": "XAjVMLxKF7po"
   },
   "source": [
    "### Define\n",
    "- Extract the 'short_url' in a new column"
   ]
  },
  {
   "cell_type": "markdown",
   "metadata": {
    "id": "wfcPWluBF7po"
   },
   "source": [
    "### Code"
   ]
  },
  {
   "cell_type": "code",
   "execution_count": 30,
   "metadata": {
    "executionInfo": {
     "elapsed": 4183,
     "status": "ok",
     "timestamp": 1615611454124,
     "user": {
      "displayName": "Peter Forez",
      "photoUrl": "",
      "userId": "11505129390976081387"
     },
     "user_tz": -120
    },
    "id": "3MuGkDN7F7pp"
   },
   "outputs": [],
   "source": [
    "# https://stackoverflow.com/questions/839994/extracting-a-url-in-python\n",
    "# https://stackoverflow.com/questions/42379389/finding-all-regex-matches-from-a-pandas-dataframe-column\n",
    "twitter_archive_master['short_url'] = twitter_archive_master.text.str.extractall(re_url).unstack().apply(lambda x:', '.join(x.dropna()), axis=1)\n",
    "twitter_archive_master.text = twitter_archive_master.text.str.replace(re_url, \"\").str.strip()"
   ]
  },
  {
   "cell_type": "markdown",
   "metadata": {
    "id": "fK3kuOXIF7pr"
   },
   "source": [
    "### Test"
   ]
  },
  {
   "cell_type": "code",
   "execution_count": 31,
   "metadata": {
    "colab": {
     "base_uri": "https://localhost:8080/"
    },
    "executionInfo": {
     "elapsed": 4177,
     "status": "ok",
     "timestamp": 1615611454125,
     "user": {
      "displayName": "Peter Forez",
      "photoUrl": "",
      "userId": "11505129390976081387"
     },
     "user_tz": -120
    },
    "id": "gHzTEPTGF7pr",
    "outputId": "4cd48d7c-40e1-4569-b104-c183e41e1d3f"
   },
   "outputs": [
    {
     "data": {
      "text/plain": [
       "0       https://t.co/MgUWQ76dJU\n",
       "1       https://t.co/0Xxu71qeIV\n",
       "2       https://t.co/wUnZnhtVJB\n",
       "3       https://t.co/tD36da7qLQ\n",
       "4       https://t.co/AtUZn91f7f\n",
       "                 ...           \n",
       "2351    https://t.co/4B7cOc1EDq\n",
       "2352    https://t.co/DWnyCjf2mx\n",
       "2353    https://t.co/y671yMhoiR\n",
       "2354    https://t.co/r7mOb2m0UI\n",
       "2355    https://t.co/BLDqew2Ijj\n",
       "Name: short_url, Length: 2097, dtype: object"
      ]
     },
     "execution_count": 31,
     "metadata": {},
     "output_type": "execute_result"
    }
   ],
   "source": [
    "# Check that the 'short_url' column is created with its content\n",
    "twitter_archive_master['short_url']"
   ]
  },
  {
   "cell_type": "code",
   "execution_count": 32,
   "metadata": {
    "colab": {
     "base_uri": "https://localhost:8080/",
     "height": 35
    },
    "executionInfo": {
     "elapsed": 4169,
     "status": "ok",
     "timestamp": 1615611454126,
     "user": {
      "displayName": "Peter Forez",
      "photoUrl": "",
      "userId": "11505129390976081387"
     },
     "user_tz": -120
    },
    "id": "8fmaSqw5BGrN",
    "outputId": "d56b3f62-bdab-4d5b-91aa-e659e694240e"
   },
   "outputs": [
    {
     "data": {
      "text/plain": [
       "'This is Darla. She commenced a snooze mid meal. 13/10 happens to the best of us'"
      ]
     },
     "execution_count": 32,
     "metadata": {},
     "output_type": "execute_result"
    }
   ],
   "source": [
    "# Check that the url is removed from the text\n",
    "twitter_archive_master.text[3]"
   ]
  },
  {
   "cell_type": "markdown",
   "metadata": {
    "id": "OS29J2A4qT65"
   },
   "source": [
    "## Point: 'text' column contains \"& amp;\" instead of \"&\""
   ]
  },
  {
   "cell_type": "markdown",
   "metadata": {
    "id": "r92YsBaMqT65"
   },
   "source": [
    "### Define\n",
    "- Replace \"& amp;\" with \"&\""
   ]
  },
  {
   "cell_type": "markdown",
   "metadata": {
    "id": "xXT3s0f4qT66"
   },
   "source": [
    "### Code"
   ]
  },
  {
   "cell_type": "code",
   "execution_count": 33,
   "metadata": {
    "executionInfo": {
     "elapsed": 4160,
     "status": "ok",
     "timestamp": 1615611454127,
     "user": {
      "displayName": "Peter Forez",
      "photoUrl": "",
      "userId": "11505129390976081387"
     },
     "user_tz": -120
    },
    "id": "xG5e0od9qT66"
   },
   "outputs": [],
   "source": [
    "twitter_archive_master.text = twitter_archive_master.text.replace('&amp;','&', regex=True)"
   ]
  },
  {
   "cell_type": "markdown",
   "metadata": {
    "id": "-O8sr1FIqT66"
   },
   "source": [
    "### Test"
   ]
  },
  {
   "cell_type": "code",
   "execution_count": 34,
   "metadata": {
    "colab": {
     "base_uri": "https://localhost:8080/"
    },
    "executionInfo": {
     "elapsed": 4155,
     "status": "ok",
     "timestamp": 1615611454127,
     "user": {
      "displayName": "Peter Forez",
      "photoUrl": "",
      "userId": "11505129390976081387"
     },
     "user_tz": -120
    },
    "id": "T-J94cxnqT67",
    "outputId": "80804680-4095-412e-ba27-8faa2205e912"
   },
   "outputs": [
    {
     "name": "stdout",
     "output_type": "stream",
     "text": [
      "Before:  54\n",
      "After:   0\n"
     ]
    }
   ],
   "source": [
    "print(\"Before: \", (twitter_archive_enhanced_df.text.str.contains('&amp;')).sum())\n",
    "print(\"After:  \", (twitter_archive_master.text.str.contains('&amp;')).sum())"
   ]
  },
  {
   "cell_type": "markdown",
   "metadata": {
    "id": "BycVHUy8MiSR"
   },
   "source": [
    "## Point: Dog type are in 4 columns"
   ]
  },
  {
   "cell_type": "markdown",
   "metadata": {
    "id": "P9YtNIKYMiSX"
   },
   "source": [
    "### Define\n",
    "- Combine the 4 columns of dog type into one"
   ]
  },
  {
   "cell_type": "markdown",
   "metadata": {
    "id": "PUjyjdW6MiSX"
   },
   "source": [
    "### Code"
   ]
  },
  {
   "cell_type": "code",
   "execution_count": 35,
   "metadata": {
    "executionInfo": {
     "elapsed": 4147,
     "status": "ok",
     "timestamp": 1615611454128,
     "user": {
      "displayName": "Peter Forez",
      "photoUrl": "",
      "userId": "11505129390976081387"
     },
     "user_tz": -120
    },
    "id": "aNS4yTgpUc-A"
   },
   "outputs": [],
   "source": [
    "# The columns that contains dog types\n",
    "dog_type_columns = ['doggo','floofer', 'pupper', 'puppo']\n",
    "# Remove \"None\" from the columns\n",
    "twitter_archive_master.loc[:, dog_type_columns] = twitter_archive_master[dog_type_columns].replace(to_replace='None', value=\"\")"
   ]
  },
  {
   "cell_type": "code",
   "execution_count": 36,
   "metadata": {
    "executionInfo": {
     "elapsed": 4142,
     "status": "ok",
     "timestamp": 1615611454128,
     "user": {
      "displayName": "Peter Forez",
      "photoUrl": "",
      "userId": "11505129390976081387"
     },
     "user_tz": -120
    },
    "id": "rmhVwMZ9ZE8T"
   },
   "outputs": [],
   "source": [
    "# Combine the information into one column 'dog_stage'\n",
    "twitter_archive_master['dog_stage'] = twitter_archive_master[dog_type_columns].sum(axis=1).replace(to_replace='', value=np.nan)\n",
    "# Remove the old columns as they have duplicate information now\n",
    "twitter_archive_master.drop(dog_type_columns, axis = 1, inplace = True)"
   ]
  },
  {
   "cell_type": "code",
   "execution_count": 37,
   "metadata": {
    "executionInfo": {
     "elapsed": 4138,
     "status": "ok",
     "timestamp": 1615611454129,
     "user": {
      "displayName": "Peter Forez",
      "photoUrl": "",
      "userId": "11505129390976081387"
     },
     "user_tz": -120
    },
    "id": "RhqDZPTsxBzl"
   },
   "outputs": [],
   "source": [
    "# Fix records that have multiple stage \n",
    "twitter_archive_master.loc[twitter_archive_master.dog_stage == 'doggopupper',  'dog_stage'] = 'doggo, pupper'\n",
    "twitter_archive_master.loc[twitter_archive_master.dog_stage == 'doggofloofer', 'dog_stage'] = 'doggo, floofer'\n",
    "twitter_archive_master.loc[twitter_archive_master.dog_stage == 'doggopuppo',   'dog_stage'] = 'doggo, puppo'"
   ]
  },
  {
   "cell_type": "markdown",
   "metadata": {
    "id": "MczJlE-FMiSY"
   },
   "source": [
    "### Test"
   ]
  },
  {
   "cell_type": "code",
   "execution_count": 38,
   "metadata": {
    "colab": {
     "base_uri": "https://localhost:8080/"
    },
    "executionInfo": {
     "elapsed": 4516,
     "status": "ok",
     "timestamp": 1615611454512,
     "user": {
      "displayName": "Peter Forez",
      "photoUrl": "",
      "userId": "11505129390976081387"
     },
     "user_tz": -120
    },
    "id": "sRXQDGzxMiSY",
    "outputId": "07b74b0c-2a07-4497-fcce-268e443f340c"
   },
   "outputs": [
    {
     "data": {
      "text/plain": [
       "pupper            221\n",
       "doggo              72\n",
       "puppo              23\n",
       "doggo, pupper       9\n",
       "floofer             9\n",
       "doggo, puppo        1\n",
       "doggo, floofer      1\n",
       "Name: dog_stage, dtype: int64"
      ]
     },
     "execution_count": 38,
     "metadata": {},
     "output_type": "execute_result"
    }
   ],
   "source": [
    "twitter_archive_master.dog_stage.value_counts()"
   ]
  },
  {
   "cell_type": "markdown",
   "metadata": {
    "id": "TNAk4LPino5K"
   },
   "source": [
    "## Point: The \"name\" column contain \"None\" and name wit lower case are incorrect"
   ]
  },
  {
   "cell_type": "markdown",
   "metadata": {
    "id": "EX8ov7Zyno5R"
   },
   "source": [
    "### Define\n",
    "- Replace \"None\" with np.nan"
   ]
  },
  {
   "cell_type": "markdown",
   "metadata": {
    "id": "w7OOHDLino5R"
   },
   "source": [
    "### Code"
   ]
  },
  {
   "cell_type": "code",
   "execution_count": 39,
   "metadata": {
    "executionInfo": {
     "elapsed": 4509,
     "status": "ok",
     "timestamp": 1615611454513,
     "user": {
      "displayName": "Peter Forez",
      "photoUrl": "",
      "userId": "11505129390976081387"
     },
     "user_tz": -120
    },
    "id": "J-Qs5Rgi3z7f"
   },
   "outputs": [],
   "source": [
    "# Extract the name from the 'text' as per the pattern 'named\\s*([A-Z]\\w+)'\n",
    "lower_case_names = twitter_archive_master[twitter_archive_master.name.str.islower() | (twitter_archive_master.name == \"None\")].copy()\n",
    "Dummy            = lower_case_names.text.str.extract(r'named\\s*([A-Z]\\w+)').dropna()\n",
    "twitter_archive_master.loc[Dummy.index,\"name\"] = Dummy[0]"
   ]
  },
  {
   "cell_type": "code",
   "execution_count": 40,
   "metadata": {
    "executionInfo": {
     "elapsed": 4503,
     "status": "ok",
     "timestamp": 1615611454513,
     "user": {
      "displayName": "Peter Forez",
      "photoUrl": "",
      "userId": "11505129390976081387"
     },
     "user_tz": -120
    },
    "id": "H2Tm5Z7-9tyY"
   },
   "outputs": [],
   "source": [
    "# Extract the name from the 'text' as per the pattern 'This is\\s*([A-Z]\\w+)'\n",
    "lower_case_names = twitter_archive_master[twitter_archive_master.name.str.islower() | (twitter_archive_master.name == \"None\")].copy()\n",
    "Dummy            = lower_case_names.text.str.extract(r'[t,T]his is\\s*([A-Z]\\w+)').dropna()\n",
    "twitter_archive_master.loc[Dummy.index,\"name\"] = Dummy[0]"
   ]
  },
  {
   "cell_type": "code",
   "execution_count": 41,
   "metadata": {
    "executionInfo": {
     "elapsed": 4499,
     "status": "ok",
     "timestamp": 1615611454514,
     "user": {
      "displayName": "Peter Forez",
      "photoUrl": "",
      "userId": "11505129390976081387"
     },
     "user_tz": -120
    },
    "id": "3BP6h5XdFanK"
   },
   "outputs": [],
   "source": [
    "# Remove the lower case names from the columns\n",
    "lower_case_names = twitter_archive_master[twitter_archive_master.name.str.islower()].copy()\n",
    "twitter_archive_master.loc[lower_case_names.index,\"name\"] = np.nan\n",
    "twitter_archive_master.name.replace(to_replace='None', value=np.nan, inplace = True)"
   ]
  },
  {
   "cell_type": "markdown",
   "metadata": {
    "id": "iFk45HM5no5R"
   },
   "source": [
    "### Test"
   ]
  },
  {
   "cell_type": "code",
   "execution_count": 42,
   "metadata": {
    "colab": {
     "base_uri": "https://localhost:8080/"
    },
    "executionInfo": {
     "elapsed": 4495,
     "status": "ok",
     "timestamp": 1615611454515,
     "user": {
      "displayName": "Peter Forez",
      "photoUrl": "",
      "userId": "11505129390976081387"
     },
     "user_tz": -120
    },
    "id": "zlaMOAUkno5S",
    "outputId": "9de5067f-8c92-4c25-ec08-bfd244b8141b"
   },
   "outputs": [
    {
     "name": "stdout",
     "output_type": "stream",
     "text": [
      "Before:  745\n",
      "Before:  0\n"
     ]
    }
   ],
   "source": [
    "(twitter_archive_master.name == 'None').sum()\n",
    "print(\"Before: \", (twitter_archive_enhanced_df.name == 'None').sum())\n",
    "print(\"Before: \", (twitter_archive_master.name == 'None').sum())"
   ]
  },
  {
   "cell_type": "code",
   "execution_count": 43,
   "metadata": {
    "colab": {
     "base_uri": "https://localhost:8080/"
    },
    "executionInfo": {
     "elapsed": 4488,
     "status": "ok",
     "timestamp": 1615611454516,
     "user": {
      "displayName": "Peter Forez",
      "photoUrl": "",
      "userId": "11505129390976081387"
     },
     "user_tz": -120
    },
    "id": "O-2S47FeGoQL",
    "outputId": "e12a0eb4-df94-434a-9028-b75617fde819"
   },
   "outputs": [
    {
     "data": {
      "text/plain": [
       "Charlie     11\n",
       "Lucy        11\n",
       "Oliver      10\n",
       "Cooper      10\n",
       "Penny        9\n",
       "            ..\n",
       "Terrance     1\n",
       "Barclay      1\n",
       "Callie       1\n",
       "Dwight       1\n",
       "Flash        1\n",
       "Name: name, Length: 949, dtype: int64"
      ]
     },
     "execution_count": 43,
     "metadata": {},
     "output_type": "execute_result"
    }
   ],
   "source": [
    "twitter_archive_master.name.value_counts()"
   ]
  },
  {
   "cell_type": "code",
   "execution_count": 44,
   "metadata": {
    "colab": {
     "base_uri": "https://localhost:8080/"
    },
    "executionInfo": {
     "elapsed": 4475,
     "status": "ok",
     "timestamp": 1615611454516,
     "user": {
      "displayName": "Peter Forez",
      "photoUrl": "",
      "userId": "11505129390976081387"
     },
     "user_tz": -120
    },
    "id": "7dgRROiAJwG-",
    "outputId": "9e1ae178-b0ac-4149-ab9c-85c6b29b3626"
   },
   "outputs": [
    {
     "data": {
      "text/plain": [
       "682"
      ]
     },
     "execution_count": 44,
     "metadata": {},
     "output_type": "execute_result"
    }
   ],
   "source": [
    "twitter_archive_master.name.isna().sum()"
   ]
  },
  {
   "cell_type": "markdown",
   "metadata": {
    "id": "_WEiOEfpHiIL"
   },
   "source": [
    "## Point: Adding retweet count and favorite count"
   ]
  },
  {
   "cell_type": "markdown",
   "metadata": {
    "id": "j2Ub-sTZHiIL"
   },
   "source": [
    "### Define\n",
    "- Merge the retweet count and favorite count from Json file"
   ]
  },
  {
   "cell_type": "markdown",
   "metadata": {
    "id": "Bci2AYg_BXEO"
   },
   "source": [
    "### Code"
   ]
  },
  {
   "cell_type": "code",
   "execution_count": 45,
   "metadata": {
    "executionInfo": {
     "elapsed": 4459,
     "status": "ok",
     "timestamp": 1615611454517,
     "user": {
      "displayName": "Peter Forez",
      "photoUrl": "",
      "userId": "11505129390976081387"
     },
     "user_tz": -120
    },
    "id": "pDFyF_XMBXEQ"
   },
   "outputs": [],
   "source": [
    "# The columns that will be merged\n",
    "columns_to_merge = ['id', 'retweet_count', 'favorite_count']\n",
    "# Merging \n",
    "twitter_archive_master = pd.merge(twitter_archive_master, json_df[columns_to_merge], left_on = \"tweet_id\", right_on = \"id\", how='left').drop('id', axis = 1)"
   ]
  },
  {
   "cell_type": "markdown",
   "metadata": {
    "id": "iq0MXoDOHiIM"
   },
   "source": [
    "### Test"
   ]
  },
  {
   "cell_type": "code",
   "execution_count": 46,
   "metadata": {
    "colab": {
     "base_uri": "https://localhost:8080/",
     "height": 202
    },
    "executionInfo": {
     "elapsed": 4445,
     "status": "ok",
     "timestamp": 1615611454518,
     "user": {
      "displayName": "Peter Forez",
      "photoUrl": "",
      "userId": "11505129390976081387"
     },
     "user_tz": -120
    },
    "id": "CKxLE2N-KscY",
    "outputId": "300a6ed2-e349-40ef-a2cd-bd13cd466b43"
   },
   "outputs": [
    {
     "data": {
      "text/html": [
       "<div>\n",
       "<style scoped>\n",
       "    .dataframe tbody tr th:only-of-type {\n",
       "        vertical-align: middle;\n",
       "    }\n",
       "\n",
       "    .dataframe tbody tr th {\n",
       "        vertical-align: top;\n",
       "    }\n",
       "\n",
       "    .dataframe thead th {\n",
       "        text-align: right;\n",
       "    }\n",
       "</style>\n",
       "<table border=\"1\" class=\"dataframe\">\n",
       "  <thead>\n",
       "    <tr style=\"text-align: right;\">\n",
       "      <th></th>\n",
       "      <th>tweet_id</th>\n",
       "      <th>timestamp</th>\n",
       "      <th>source</th>\n",
       "      <th>text</th>\n",
       "      <th>expanded_urls</th>\n",
       "      <th>rating_numerator</th>\n",
       "      <th>rating_denominator</th>\n",
       "      <th>name</th>\n",
       "      <th>short_url</th>\n",
       "      <th>dog_stage</th>\n",
       "      <th>retweet_count</th>\n",
       "      <th>favorite_count</th>\n",
       "    </tr>\n",
       "  </thead>\n",
       "  <tbody>\n",
       "    <tr>\n",
       "      <td>0</td>\n",
       "      <td>892420643555336193</td>\n",
       "      <td>2017-08-01 16:23:56</td>\n",
       "      <td>Twitter for iPhone</td>\n",
       "      <td>This is Phineas. He's a mystical boy. Only eve...</td>\n",
       "      <td>https://twitter.com/dog_rates/status/892420643...</td>\n",
       "      <td>13</td>\n",
       "      <td>10</td>\n",
       "      <td>Phineas</td>\n",
       "      <td>https://t.co/MgUWQ76dJU</td>\n",
       "      <td>NaN</td>\n",
       "      <td>8853</td>\n",
       "      <td>39467</td>\n",
       "    </tr>\n",
       "  </tbody>\n",
       "</table>\n",
       "</div>"
      ],
      "text/plain": [
       "             tweet_id           timestamp              source  \\\n",
       "0  892420643555336193 2017-08-01 16:23:56  Twitter for iPhone   \n",
       "\n",
       "                                                text  \\\n",
       "0  This is Phineas. He's a mystical boy. Only eve...   \n",
       "\n",
       "                                       expanded_urls  rating_numerator  \\\n",
       "0  https://twitter.com/dog_rates/status/892420643...                13   \n",
       "\n",
       "   rating_denominator     name                short_url dog_stage  \\\n",
       "0                  10  Phineas  https://t.co/MgUWQ76dJU       NaN   \n",
       "\n",
       "   retweet_count  favorite_count  \n",
       "0           8853           39467  "
      ]
     },
     "execution_count": 46,
     "metadata": {},
     "output_type": "execute_result"
    }
   ],
   "source": [
    "twitter_archive_master.head(1)"
   ]
  },
  {
   "cell_type": "code",
   "execution_count": 47,
   "metadata": {
    "colab": {
     "base_uri": "https://localhost:8080/"
    },
    "executionInfo": {
     "elapsed": 4429,
     "status": "ok",
     "timestamp": 1615611454518,
     "user": {
      "displayName": "Peter Forez",
      "photoUrl": "",
      "userId": "11505129390976081387"
     },
     "user_tz": -120
    },
    "id": "jmS_EFYbHiIM",
    "outputId": "0962c097-f4bf-44e8-f492-05b12f1d3bad"
   },
   "outputs": [
    {
     "name": "stdout",
     "output_type": "stream",
     "text": [
      "<class 'pandas.core.frame.DataFrame'>\n",
      "Int64Index: 2097 entries, 0 to 2096\n",
      "Data columns (total 12 columns):\n",
      "tweet_id              2097 non-null int64\n",
      "timestamp             2097 non-null datetime64[ns]\n",
      "source                2097 non-null object\n",
      "text                  2097 non-null object\n",
      "expanded_urls         2094 non-null object\n",
      "rating_numerator      2097 non-null int64\n",
      "rating_denominator    2097 non-null int64\n",
      "name                  1415 non-null object\n",
      "short_url             2094 non-null object\n",
      "dog_stage             336 non-null object\n",
      "retweet_count         2097 non-null int64\n",
      "favorite_count        2097 non-null int64\n",
      "dtypes: datetime64[ns](1), int64(5), object(6)\n",
      "memory usage: 213.0+ KB\n"
     ]
    }
   ],
   "source": [
    "twitter_archive_master.info()"
   ]
  },
  {
   "cell_type": "markdown",
   "metadata": {
    "id": "gXDIyHPEg7On"
   },
   "source": [
    "## Point: the column names of the prediction are not descriptive"
   ]
  },
  {
   "cell_type": "markdown",
   "metadata": {
    "id": "cCG55MmEg7On"
   },
   "source": [
    "### Define\n",
    "- Rename the columns in the prediction table"
   ]
  },
  {
   "cell_type": "markdown",
   "metadata": {
    "id": "vixU1Ymvg7Oo"
   },
   "source": [
    "### Code"
   ]
  },
  {
   "cell_type": "code",
   "execution_count": 48,
   "metadata": {
    "executionInfo": {
     "elapsed": 4415,
     "status": "ok",
     "timestamp": 1615611454519,
     "user": {
      "displayName": "Peter Forez",
      "photoUrl": "",
      "userId": "11505129390976081387"
     },
     "user_tz": -120
    },
    "id": "5_TkfKa5vYdw"
   },
   "outputs": [],
   "source": [
    "image_predictions_clean.rename(columns={\"img_num\": \"number_of_images\",\n",
    "                                        \"p1\": \"first_prediction\", \"p2\": \"second_prediction\", \"p3\": \"third_prediction\",\n",
    "                                        \"p1_conf\": \"first_confidence\", \"p2_conf\": \"second_confidence\", \"p3_conf\": \"third_confidence\",\n",
    "                                        \"p1_dog\": \"first_is_dog\", \"p2_dog\": \"second_is_dog\", \"p3_dog\": \"third_is_dog\"},\n",
    "                                inplace = True)"
   ]
  },
  {
   "cell_type": "markdown",
   "metadata": {
    "id": "O1RgU9PTg7Oo"
   },
   "source": [
    "### Test"
   ]
  },
  {
   "cell_type": "code",
   "execution_count": 49,
   "metadata": {
    "colab": {
     "base_uri": "https://localhost:8080/"
    },
    "executionInfo": {
     "elapsed": 4407,
     "status": "ok",
     "timestamp": 1615611454520,
     "user": {
      "displayName": "Peter Forez",
      "photoUrl": "",
      "userId": "11505129390976081387"
     },
     "user_tz": -120
    },
    "id": "cDVUH0dfg7Op",
    "outputId": "ba73c3dc-bfce-4877-d7e3-48c2acd67fa1"
   },
   "outputs": [
    {
     "data": {
      "text/plain": [
       "Index(['tweet_id', 'jpg_url', 'number_of_images', 'first_prediction',\n",
       "       'first_confidence', 'first_is_dog', 'second_prediction',\n",
       "       'second_confidence', 'second_is_dog', 'third_prediction',\n",
       "       'third_confidence', 'third_is_dog'],\n",
       "      dtype='object')"
      ]
     },
     "execution_count": 49,
     "metadata": {},
     "output_type": "execute_result"
    }
   ],
   "source": [
    "image_predictions_clean.columns"
   ]
  },
  {
   "cell_type": "markdown",
   "metadata": {
    "id": "hqoj208kpBB6"
   },
   "source": [
    "## Point: Adding image prediction"
   ]
  },
  {
   "cell_type": "markdown",
   "metadata": {
    "id": "MdL1zp28pBB7"
   },
   "source": [
    "### Define\n",
    "- Combine the image prediction with the twitter archive"
   ]
  },
  {
   "cell_type": "markdown",
   "metadata": {
    "id": "otIlzXhupBB8"
   },
   "source": [
    "### Code"
   ]
  },
  {
   "cell_type": "code",
   "execution_count": 50,
   "metadata": {
    "executionInfo": {
     "elapsed": 4394,
     "status": "ok",
     "timestamp": 1615611454520,
     "user": {
      "displayName": "Peter Forez",
      "photoUrl": "",
      "userId": "11505129390976081387"
     },
     "user_tz": -120
    },
    "id": "4xZSHn-5pBB9"
   },
   "outputs": [],
   "source": [
    "twitter_archive_master = pd.merge(twitter_archive_master, image_predictions_clean, left_on = \"tweet_id\", right_on = \"tweet_id\", how='inner')"
   ]
  },
  {
   "cell_type": "markdown",
   "metadata": {
    "id": "Ptp6tsycpBB-"
   },
   "source": [
    "### Test"
   ]
  },
  {
   "cell_type": "code",
   "execution_count": 51,
   "metadata": {
    "colab": {
     "base_uri": "https://localhost:8080/"
    },
    "executionInfo": {
     "elapsed": 4742,
     "status": "ok",
     "timestamp": 1615611454877,
     "user": {
      "displayName": "Peter Forez",
      "photoUrl": "",
      "userId": "11505129390976081387"
     },
     "user_tz": -120
    },
    "id": "CQOWWrDICeyD",
    "outputId": "a30375e2-5fab-4a5e-ac59-0d9c8711d132"
   },
   "outputs": [
    {
     "data": {
      "text/plain": [
       "Index(['tweet_id', 'timestamp', 'source', 'text', 'expanded_urls',\n",
       "       'rating_numerator', 'rating_denominator', 'name', 'short_url',\n",
       "       'dog_stage', 'retweet_count', 'favorite_count', 'jpg_url',\n",
       "       'number_of_images', 'first_prediction', 'first_confidence',\n",
       "       'first_is_dog', 'second_prediction', 'second_confidence',\n",
       "       'second_is_dog', 'third_prediction', 'third_confidence',\n",
       "       'third_is_dog'],\n",
       "      dtype='object')"
      ]
     },
     "execution_count": 51,
     "metadata": {},
     "output_type": "execute_result"
    }
   ],
   "source": [
    "twitter_archive_master.columns"
   ]
  },
  {
   "cell_type": "markdown",
   "metadata": {
    "id": "RiHb9c2_Mm68"
   },
   "source": [
    "## Point: the \"rating_denominator\" contains values not equal to 10"
   ]
  },
  {
   "cell_type": "markdown",
   "metadata": {
    "id": "3PHEbhlYMm68"
   },
   "source": [
    "### Define\n",
    "- Fix the row that have the correct information the 'text' column and drop the others"
   ]
  },
  {
   "cell_type": "markdown",
   "metadata": {
    "id": "nc3R5NnxMm68"
   },
   "source": [
    "### Code"
   ]
  },
  {
   "cell_type": "code",
   "execution_count": 52,
   "metadata": {
    "executionInfo": {
     "elapsed": 4731,
     "status": "ok",
     "timestamp": 1615611454878,
     "user": {
      "displayName": "Peter Forez",
      "photoUrl": "",
      "userId": "11505129390976081387"
     },
     "user_tz": -120
    },
    "id": "685swkZkMm68"
   },
   "outputs": [],
   "source": [
    "# Correct the rating as per the information in 'text' column\n",
    "twitter_archive_master.loc[1068, [\"rating_numerator\", \"rating_denominator\"]] = [14, 10]\n",
    "twitter_archive_master.loc[1165, [\"rating_numerator\", \"rating_denominator\"]] = [13, 10]\n",
    "twitter_archive_master.loc[1202, [\"rating_numerator\", \"rating_denominator\"]] = [1, 10]\n",
    "twitter_archive_master.loc[1662, [\"rating_numerator\", \"rating_denominator\"]] = [10, 10]\n",
    "twitter_archive_master.loc[2335, [\"rating_numerator\", \"rating_denominator\"]] = [9, 10]\n",
    "\n",
    "twitter_archive_master.loc[794,  [\"rating_numerator\", \"rating_denominator\"]] = [14, 10]\n",
    "twitter_archive_master.loc[884,  [\"rating_numerator\", \"rating_denominator\"]] = [13, 10]\n",
    "twitter_archive_master.loc[918,  [\"rating_numerator\", \"rating_denominator\"]] = [11, 10]\n",
    "twitter_archive_master.loc[1313, [\"rating_numerator\", \"rating_denominator\"]] = [10, 10]\n",
    "twitter_archive_master.loc[1950, [\"rating_numerator\", \"rating_denominator\"]] = [9, 10]"
   ]
  },
  {
   "cell_type": "code",
   "execution_count": 53,
   "metadata": {
    "executionInfo": {
     "elapsed": 4725,
     "status": "ok",
     "timestamp": 1615611454878,
     "user": {
      "displayName": "Peter Forez",
      "photoUrl": "",
      "userId": "11505129390976081387"
     },
     "user_tz": -120
    },
    "id": "5J9g8ApZaDrJ"
   },
   "outputs": [],
   "source": [
    "# Drop the rows that have denominator not equal to 10\n",
    "twitter_archive_master = twitter_archive_master[twitter_archive_master.rating_denominator == 10]\n",
    "twitter_archive_master.drop(\"rating_denominator\", axis = 1, inplace = True)"
   ]
  },
  {
   "cell_type": "markdown",
   "metadata": {
    "id": "8RahHKEZMm68"
   },
   "source": [
    "### Test"
   ]
  },
  {
   "cell_type": "code",
   "execution_count": 54,
   "metadata": {
    "colab": {
     "base_uri": "https://localhost:8080/"
    },
    "executionInfo": {
     "elapsed": 4719,
     "status": "ok",
     "timestamp": 1615611454879,
     "user": {
      "displayName": "Peter Forez",
      "photoUrl": "",
      "userId": "11505129390976081387"
     },
     "user_tz": -120
    },
    "id": "1dGMdB3dZwEs",
    "outputId": "6c7f3b46-8edc-48d0-9d15-fb0f3480a0be"
   },
   "outputs": [
    {
     "data": {
      "text/plain": [
       "Index(['tweet_id', 'timestamp', 'source', 'text', 'expanded_urls',\n",
       "       'rating_numerator', 'name', 'short_url', 'dog_stage', 'retweet_count',\n",
       "       'favorite_count', 'jpg_url', 'number_of_images', 'first_prediction',\n",
       "       'first_confidence', 'first_is_dog', 'second_prediction',\n",
       "       'second_confidence', 'second_is_dog', 'third_prediction',\n",
       "       'third_confidence', 'third_is_dog'],\n",
       "      dtype='object')"
      ]
     },
     "execution_count": 54,
     "metadata": {},
     "output_type": "execute_result"
    }
   ],
   "source": [
    "twitter_archive_master.columns"
   ]
  },
  {
   "cell_type": "code",
   "execution_count": null,
   "metadata": {
    "id": "21lURRp_-a3s"
   },
   "outputs": [],
   "source": []
  },
  {
   "cell_type": "markdown",
   "metadata": {
    "id": "pzmIM7Pi-bY5"
   },
   "source": [
    "## Point: The type of \"tweet_id\" is float"
   ]
  },
  {
   "cell_type": "markdown",
   "metadata": {
    "id": "_wWwkBUG-bY7"
   },
   "source": [
    "### Define\n",
    "- Convert the type of 'tweet_id' to object"
   ]
  },
  {
   "cell_type": "markdown",
   "metadata": {
    "id": "FBMeATKj-bY7"
   },
   "source": [
    "### Code"
   ]
  },
  {
   "cell_type": "code",
   "execution_count": 55,
   "metadata": {
    "executionInfo": {
     "elapsed": 608,
     "status": "ok",
     "timestamp": 1615612101844,
     "user": {
      "displayName": "Peter Forez",
      "photoUrl": "",
      "userId": "11505129390976081387"
     },
     "user_tz": -120
    },
    "id": "3d0R6SSX-bY7"
   },
   "outputs": [],
   "source": [
    "twitter_archive_master.tweet_id = twitter_archive_master.tweet_id.astype('object')"
   ]
  },
  {
   "cell_type": "markdown",
   "metadata": {
    "id": "vrkMwWjv-bY8"
   },
   "source": [
    "### Test"
   ]
  },
  {
   "cell_type": "code",
   "execution_count": 56,
   "metadata": {
    "colab": {
     "base_uri": "https://localhost:8080/"
    },
    "executionInfo": {
     "elapsed": 1041,
     "status": "ok",
     "timestamp": 1615612105261,
     "user": {
      "displayName": "Peter Forez",
      "photoUrl": "",
      "userId": "11505129390976081387"
     },
     "user_tz": -120
    },
    "id": "knz0IiGb-bY8",
    "outputId": "e067fa96-c6d9-404c-e67c-01468af1f5f1"
   },
   "outputs": [
    {
     "name": "stdout",
     "output_type": "stream",
     "text": [
      "<class 'pandas.core.frame.DataFrame'>\n",
      "Int64Index: 1960 entries, 0 to 2335\n",
      "Data columns (total 22 columns):\n",
      "tweet_id             1959 non-null object\n",
      "timestamp            1959 non-null datetime64[ns]\n",
      "source               1959 non-null object\n",
      "text                 1959 non-null object\n",
      "expanded_urls        1959 non-null object\n",
      "rating_numerator     1960 non-null float64\n",
      "name                 1373 non-null object\n",
      "short_url            1959 non-null object\n",
      "dog_stage            303 non-null object\n",
      "retweet_count        1959 non-null float64\n",
      "favorite_count       1959 non-null float64\n",
      "jpg_url              1959 non-null object\n",
      "number_of_images     1959 non-null float64\n",
      "first_prediction     1959 non-null object\n",
      "first_confidence     1959 non-null float64\n",
      "first_is_dog         1959 non-null object\n",
      "second_prediction    1959 non-null object\n",
      "second_confidence    1959 non-null float64\n",
      "second_is_dog        1959 non-null object\n",
      "third_prediction     1959 non-null object\n",
      "third_confidence     1959 non-null float64\n",
      "third_is_dog         1959 non-null object\n",
      "dtypes: datetime64[ns](1), float64(7), object(14)\n",
      "memory usage: 352.2+ KB\n"
     ]
    }
   ],
   "source": [
    "twitter_archive_master.info()"
   ]
  },
  {
   "cell_type": "markdown",
   "metadata": {
    "id": "vRoGaQx7F7pt"
   },
   "source": [
    "# Store the Data"
   ]
  },
  {
   "cell_type": "code",
   "execution_count": 57,
   "metadata": {
    "executionInfo": {
     "elapsed": 4710,
     "status": "ok",
     "timestamp": 1615611454880,
     "user": {
      "displayName": "Peter Forez",
      "photoUrl": "",
      "userId": "11505129390976081387"
     },
     "user_tz": -120
    },
    "id": "vBETbnuGF7pt"
   },
   "outputs": [],
   "source": [
    "twitter_archive_master.to_csv('twitter_archive_master.csv', index=False)"
   ]
  },
  {
   "cell_type": "markdown",
   "metadata": {
    "id": "q3dD0__HxQnK"
   },
   "source": [
    "# Analyzation and Visualization"
   ]
  },
  {
   "cell_type": "markdown",
   "metadata": {
    "id": "yoBAHxX9xsEf"
   },
   "source": [
    "## The twitter count with years"
   ]
  },
  {
   "cell_type": "code",
   "execution_count": 58,
   "metadata": {
    "colab": {
     "base_uri": "https://localhost:8080/",
     "height": 482
    },
    "executionInfo": {
     "elapsed": 912,
     "status": "ok",
     "timestamp": 1615611890802,
     "user": {
      "displayName": "Peter Forez",
      "photoUrl": "",
      "userId": "11505129390976081387"
     },
     "user_tz": -120
    },
    "id": "_G_LdhmWF7pu",
    "outputId": "5d088649-3299-4209-9e1c-223adfe56a14"
   },
   "outputs": [
    {
     "data": {
      "image/png": "[encoded data removed]",
      "text/plain": [
       "<Figure size 432x288 with 1 Axes>"
      ]
     },
     "metadata": {},
     "output_type": "display_data"
    }
   ],
   "source": [
    "pie_input = twitter_archive_master.timestamp.dt.year.dropna().astype('int').value_counts()\n",
    "plt.pie(pie_input,\n",
    "        labels = pie_input.index,\n",
    "        startangle = 90, \n",
    "        counterclock = False, \n",
    "        autopct='%1.2f%%', \n",
    "        wedgeprops = {'width' : 0.4}); \n",
    "plt.axis('square');   \n",
    "plt.legend(); \n",
    "plt.title(\"Number of tweets over the years\");\n"
   ]
  },
  {
   "cell_type": "markdown",
   "metadata": {
    "id": "sdIPNaSC4-qD"
   },
   "source": [
    "> <font color='red'> \n",
    "Insights:\n",
    "* The number of tweets was at the peek in the year 2016 and then decreases\n",
    "</font>"
   ]
  },
  {
   "cell_type": "markdown",
   "metadata": {
    "id": "Wj_l9QUt43u8"
   },
   "source": [
    "## The Twitter Sources"
   ]
  },
  {
   "cell_type": "code",
   "execution_count": 59,
   "metadata": {
    "colab": {
     "base_uri": "https://localhost:8080/",
     "height": 497
    },
    "executionInfo": {
     "elapsed": 4966,
     "status": "ok",
     "timestamp": 1615611455155,
     "user": {
      "displayName": "Peter Forez",
      "photoUrl": "",
      "userId": "11505129390976081387"
     },
     "user_tz": -120
    },
    "id": "0pgEciOm4giy",
    "outputId": "030c05b6-3e5b-4a3b-ae2f-2d1fef06fa99"
   },
   "outputs": [
    {
     "data": {
      "image/png": "[encoded data removed]",
      "text/plain": [
       "<Figure size 432x288 with 1 Axes>"
      ]
     },
     "metadata": {
      "needs_background": "light"
     },
     "output_type": "display_data"
    }
   ],
   "source": [
    "sb.countplot(data = twitter_archive_master, x = \"source\");"
   ]
  },
  {
   "cell_type": "markdown",
   "metadata": {
    "id": "QvygHW3-5T1h"
   },
   "source": [
    "> <font color='red'> \n",
    "Insights:\n",
    "* The common source of tweets in from the iphone\n",
    "* The other sources can e neglected  \n",
    "</font>"
   ]
  },
  {
   "cell_type": "markdown",
   "metadata": {
    "id": "DcDgCpMZ6h1o"
   },
   "source": [
    "## Relation between the retweet counts and the favorite counts"
   ]
  },
  {
   "cell_type": "code",
   "execution_count": 60,
   "metadata": {
    "colab": {
     "base_uri": "https://localhost:8080/",
     "height": 530
    },
    "executionInfo": {
     "elapsed": 5301,
     "status": "ok",
     "timestamp": 1615611455500,
     "user": {
      "displayName": "Peter Forez",
      "photoUrl": "",
      "userId": "11505129390976081387"
     },
     "user_tz": -120
    },
    "id": "HRwAHGqd5QxG",
    "outputId": "d0dc7d43-105b-4572-bd5d-c436e5d9b771"
   },
   "outputs": [
    {
     "data": {
      "text/plain": [
       "Text(0.5, 1.0, 'Relation between the retweent counts with the favorite counts')"
      ]
     },
     "execution_count": 60,
     "metadata": {},
     "output_type": "execute_result"
    },
    {
     "data": {
      "image/png": "[encoded data removed]",
      "text/plain": [
       "<Figure size 432x288 with 1 Axes>"
      ]
     },
     "metadata": {
      "needs_background": "light"
     },
     "output_type": "display_data"
    }
   ],
   "source": [
    "plt.scatter(data = twitter_archive_master, \n",
    "            x = \"retweet_count\", \n",
    "            y = \"favorite_count\");\n",
    "plt.xlabel(\"Retweet Count\");\n",
    "plt.ylabel(\"Favorite Count\");\n",
    "plt.title(\"Relation between the retweent counts with the favorite counts\")"
   ]
  },
  {
   "cell_type": "markdown",
   "metadata": {
    "id": "0OUGS5126no3"
   },
   "source": [
    "> <font color='red'> \n",
    "Insights:\n",
    "* The relation is linear between the retweent count and the favorite count\n",
    "</font>"
   ]
  },
  {
   "cell_type": "markdown",
   "metadata": {
    "id": "FWf2zbeISTku"
   },
   "source": [
    "## Relation between the number of tweet with time"
   ]
  },
  {
   "cell_type": "code",
   "execution_count": 61,
   "metadata": {
    "executionInfo": {
     "elapsed": 5292,
     "status": "ok",
     "timestamp": 1615611455501,
     "user": {
      "displayName": "Peter Forez",
      "photoUrl": "",
      "userId": "11505129390976081387"
     },
     "user_tz": -120
    },
    "id": "pMez7V9gN_PO"
   },
   "outputs": [],
   "source": [
    "# https://stackoverflow.com/questions/26646191/pandas-groupby-month-and-year\n",
    "per = twitter_archive_master.timestamp.dt.to_period(\"D\")  # new way to get the same\n",
    "df  = twitter_archive_master.groupby(per)['tweet_id'].count().reset_index()"
   ]
  },
  {
   "cell_type": "code",
   "execution_count": 62,
   "metadata": {
    "colab": {
     "base_uri": "https://localhost:8080/",
     "height": 524
    },
    "executionInfo": {
     "elapsed": 5950,
     "status": "ok",
     "timestamp": 1615611456165,
     "user": {
      "displayName": "Peter Forez",
      "photoUrl": "",
      "userId": "11505129390976081387"
     },
     "user_tz": -120
    },
    "id": "loUscDFt7ir5",
    "outputId": "2ed13ba9-a8b5-4a86-b4fd-49f3d17dc157"
   },
   "outputs": [
    {
     "data": {
      "image/png": "[encoded data removed]",
      "text/plain": [
       "<Figure size 432x288 with 1 Axes>"
      ]
     },
     "metadata": {
      "needs_background": "light"
     },
     "output_type": "display_data"
    }
   ],
   "source": [
    "df.plot(x=\"timestamp\", y=\"tweet_id\");\n",
    "plt.title(\"The number of tweets with time\");\n",
    "plt.xlabel(\"Time\")\n",
    "plt.ylabel(\"Count\")\n",
    "plt.grid()"
   ]
  },
  {
   "cell_type": "markdown",
   "metadata": {
    "id": "FAPz7VnJSbY1"
   },
   "source": [
    "> <font color='red'> \n",
    "Insights:\n",
    "* The number of tweets decrease with time\n",
    "</font>"
   ]
  },
  {
   "cell_type": "markdown",
   "metadata": {
    "id": "cxtLgatWyOhP"
   },
   "source": [
    "# <h1><center>Thanks You</center></h1>"
   ]
  },
  {
   "cell_type": "code",
   "execution_count": null,
   "metadata": {
    "id": "EeebcYDZCl3U"
   },
   "outputs": [],
   "source": []
  }
 ],
 "metadata": {
  "colab": {
   "collapsed_sections": [
    "XAjVMLxKF7po"
   ],
   "name": "wrangle_act.ipynb",
   "provenance": [],
   "toc_visible": true
  },
  "kernelspec": {
   "display_name": "Python 3",
   "language": "python",
   "name": "python3"
  },
  "language_info": {
   "codemirror_mode": {
    "name": "ipython",
    "version": 3
   },
   "file_extension": ".py",
   "mimetype": "text/x-python",
   "name": "python",
   "nbconvert_exporter": "python",
   "pygments_lexer": "ipython3",
   "version": "3.7.4"
  }
 },
 "nbformat": 4,
 "nbformat_minor": 1
}
